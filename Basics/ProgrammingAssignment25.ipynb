{
 "cells": [
  {
   "attachments": {},
   "cell_type": "markdown",
   "metadata": {},
   "source": [
    "Question1\n",
    "Create a function that takes three integer arguments (a, b, c) and returns the amount of\n",
    "integers which are of equal value.\n",
    "Examples\n",
    "equal(3, 4, 3) ➞ 2\n",
    "equal(1, 1, 1) ➞ 3\n",
    "equal(3, 4, 1) ➞ 0\n",
    "Notes\n",
    "Your function must return 0, 2 or 3.\n"
   ]
  },
  {
   "cell_type": "code",
   "execution_count": 1,
   "metadata": {},
   "outputs": [
    {
     "name": "stdout",
     "output_type": "stream",
     "text": [
      "(3, 4, 3) ➞ 0\n",
      "(1, 1, 1) ➞ 3\n",
      "(3, 4, 1) ➞ 0\n"
     ]
    }
   ],
   "source": [
    "def equal(a,b,c):\n",
    "    if a==b==c:\n",
    "        print(f'{a,b,c} ➞ {3}')\n",
    "    elif a==b or b==c:\n",
    "        print(f'{a,b,c} ➞ {2}')\n",
    "    else:\n",
    "        print(f'{a,b,c} ➞ {0}')\n",
    "\n",
    "equal(3, 4, 3)\n",
    "equal(1, 1, 1)\n",
    "equal(3, 4, 1)"
   ]
  },
  {
   "attachments": {},
   "cell_type": "markdown",
   "metadata": {},
   "source": [
    "\n",
    "Question2\n",
    "Write a function that converts a dictionary into a list of keys-values tuples.\n",
    "Examples\n",
    "dict_to_list({\n",
    "&quot;D&quot;: 1,\n",
    "&quot;B&quot;: 2,\n",
    "&quot;C&quot;: 3\n",
    "}) ➞ [(&quot;B&quot;, 2), (&quot;C&quot;, 3), (&quot;D&quot;, 1)]\n",
    "dict_to_list({\n",
    "&quot;likes&quot;: 2,\n",
    "&quot;dislikes&quot;: 3,\n",
    "&quot;followers&quot;: 10\n",
    "}) ➞ [(&quot;dislikes&quot;, 3), (&quot;followers&quot;, 10), (&quot;likes&quot;, 2)]\n",
    "Notes\n",
    "Return the elements in the list in alphabetical order.\n"
   ]
  },
  {
   "cell_type": "code",
   "execution_count": 2,
   "metadata": {},
   "outputs": [
    {
     "name": "stdout",
     "output_type": "stream",
     "text": [
      "{'D': 1, 'B': 2, 'C': 3} ➞ [('D', 1), ('B', 2), ('C', 3)]\n",
      "{'likes': 2, 'dislikes': 3, 'followers': 10} ➞ [('likes', 2), ('dislikes', 3), ('followers', 10)]\n"
     ]
    }
   ],
   "source": [
    "def dict_to_list(inpList):\n",
    "    outList = []\n",
    "    for keys,values in inpList.items():\n",
    "        outList.append((keys,values))\n",
    "    print(f'{inpList} ➞ {outList}')\n",
    "                   \n",
    "dict_to_list({\"D\": 1,\"B\": 2,\"C\": 3})\n",
    "dict_to_list({\"likes\": 2,\"dislikes\": 3,\"followers\": 10})"
   ]
  },
  {
   "attachments": {},
   "cell_type": "markdown",
   "metadata": {},
   "source": [
    "\n",
    "Question3\n",
    "Write a function that creates a dictionary with each (key, value) pair being the (lower case,\n",
    "upper case) versions of a letter, respectively.\n",
    "Examples\n",
    "mapping([&quot;p&quot;, &quot;s&quot;]) ➞ { &quot;p&quot;: &quot;P&quot;, &quot;s&quot;: &quot;S&quot; }\n",
    "\n",
    "mapping([&quot;a&quot;, &quot;b&quot;, &quot;c&quot;]) ➞ { &quot;a&quot;: &quot;A&quot;, &quot;b&quot;: &quot;B&quot;, &quot;c&quot;: &quot;C&quot; }\n",
    "mapping([&quot;a&quot;, &quot;v&quot;, &quot;y&quot;, &quot;z&quot;]) ➞ { &quot;a&quot;: &quot;A&quot;, &quot;v&quot;: &quot;V&quot;, &quot;y&quot;: &quot;Y&quot;, &quot;z&quot;: &quot;Z&quot; }\n",
    "Notes\n",
    "All of the letters in the input list will always be lowercase.\n"
   ]
  },
  {
   "cell_type": "code",
   "execution_count": 3,
   "metadata": {},
   "outputs": [
    {
     "name": "stdout",
     "output_type": "stream",
     "text": [
      "['p', 's'] ➞ {'p': 'P', 's': 'S'}\n",
      "['a', 'b', 'c'] ➞ {'a': 'A', 'b': 'B', 'c': 'C'}\n",
      "['a', 'v', 'y', 'z'] ➞ {'a': 'A', 'v': 'V', 'y': 'Y', 'z': 'Z'}\n"
     ]
    }
   ],
   "source": [
    "def mapping(inpList):\n",
    "    outList = {}\n",
    "    for i in inpList:\n",
    "        outList[i] = i.upper()\n",
    "    print(f'{inpList} ➞ {outList}')\n",
    "    \n",
    "mapping([\"p\", \"s\"])\n",
    "mapping([\"a\", \"b\", \"c\"])\n",
    "mapping([\"a\", \"v\", \"y\", \"z\"])"
   ]
  },
  {
   "attachments": {},
   "cell_type": "markdown",
   "metadata": {},
   "source": [
    "\n",
    "Question4\n",
    "Write a function, that replaces all vowels in a string with a specified vowel.\n",
    "Examples\n",
    "vow_replace(&quot;apples and bananas&quot;, &quot;u&quot;) ➞ &quot;upplus und bununus&quot;\n",
    "vow_replace(&quot;cheese casserole&quot;, &quot;o&quot;) ➞ &quot;chooso cossorolo&quot;\n",
    "vow_replace(&quot;stuffed jalapeno poppers&quot;, &quot;e&quot;) ➞ &quot;steffed jelepene peppers&quot;\n",
    "Notes\n",
    "All words will be lowercase. Y is not considered a vowel.\n"
   ]
  },
  {
   "cell_type": "code",
   "execution_count": 4,
   "metadata": {},
   "outputs": [
    {
     "name": "stdout",
     "output_type": "stream",
     "text": [
      "apples and bananas ➞ upplus und bununus\n",
      "cheese casserole ➞ chooso cossorolo\n",
      "stuffed jalapeno poppers ➞ steffed jelepene peppers\n"
     ]
    }
   ],
   "source": [
    "def vow_replace(inpStr,vow):\n",
    "    vowels = ['a','e','i','o','u']\n",
    "    outStr = ''\n",
    "    for i in inpStr:\n",
    "        if i in vowels:\n",
    "            outStr += vow\n",
    "        else:\n",
    "            outStr += i\n",
    "    print(f'{inpStr} ➞ {outStr}')\n",
    "        \n",
    "vow_replace(\"apples and bananas\", \"u\")\n",
    "vow_replace(\"cheese casserole\", \"o\")\n",
    "vow_replace(\"stuffed jalapeno poppers\", \"e\")"
   ]
  },
  {
   "attachments": {},
   "cell_type": "markdown",
   "metadata": {},
   "source": [
    "\n",
    "Question5\n",
    "Create a function that takes a string as input and capitalizes a letter if its ASCII code is even\n",
    "and returns its lower case version if its ASCII code is odd.\n",
    "Examples\n",
    "ascii_capitalize(&quot;to be or not to be!&quot;) ➞ &quot;To Be oR NoT To Be!&quot;\n",
    "ascii_capitalize(&quot;THE LITTLE MERMAID&quot;) ➞ &quot;THe LiTTLe meRmaiD&quot;\n",
    "ascii_capitalize(&quot;Oh what a beautiful morning.&quot;) ➞ &quot;oH wHaT a BeauTiFuL\n",
    "moRNiNg.&quot;"
   ]
  },
  {
   "cell_type": "code",
   "execution_count": 5,
   "metadata": {},
   "outputs": [
    {
     "name": "stdout",
     "output_type": "stream",
     "text": [
      "to be or not to be! ➞ To Be oR NoT To Be!\n",
      "THE LITTLE MERMAID ➞ THe LiTTLe meRmaiD\n",
      "Oh what a beautiful morning. ➞ oH wHaT a BeauTiFuL moRNiNg.\n"
     ]
    }
   ],
   "source": [
    "def ascii_capitalize(inpStr):\n",
    "    outStr = ''\n",
    "    for e in inpStr.lower():\n",
    "        if (ord(e)%2 == 0):\n",
    "            outStr += e.upper()\n",
    "        else:\n",
    "            outStr += e\n",
    "    print(f'{inpStr} ➞ {outStr}')\n",
    "        \n",
    "ascii_capitalize(\"to be or not to be!\")\n",
    "ascii_capitalize(\"THE LITTLE MERMAID\")\n",
    "ascii_capitalize(\"Oh what a beautiful morning.\")"
   ]
  }
 ],
 "metadata": {
  "kernelspec": {
   "display_name": "Python 3",
   "language": "python",
   "name": "python3"
  },
  "language_info": {
   "codemirror_mode": {
    "name": "ipython",
    "version": 3
   },
   "file_extension": ".py",
   "mimetype": "text/x-python",
   "name": "python",
   "nbconvert_exporter": "python",
   "pygments_lexer": "ipython3",
   "version": "3.10.6"
  },
  "orig_nbformat": 4
 },
 "nbformat": 4,
 "nbformat_minor": 2
}
