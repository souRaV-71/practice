{
 "cells": [
  {
   "attachments": {},
   "cell_type": "markdown",
   "metadata": {},
   "source": [
    "1. Write a Python program to find words which are greater than given length k?"
   ]
  },
  {
   "cell_type": "code",
   "execution_count": 5,
   "metadata": {},
   "outputs": [
    {
     "name": "stdout",
     "output_type": "stream",
     "text": [
      "quick,brown,jumps\n"
     ]
    }
   ],
   "source": [
    "def wordsgreaterthangivenlengthK():\n",
    "    inpStr = input(\"Str: \")\n",
    "    inplen = int(input('Length of Str: '))\n",
    "    outStr = []\n",
    "    for string in inpStr.split(\" \"):\n",
    "        if len(string) > inplen:\n",
    "            outStr.append(string)\n",
    "    print(','.join(outStr))\n",
    "\n",
    "wordsgreaterthangivenlengthK()"
   ]
  },
  {
   "attachments": {},
   "cell_type": "markdown",
   "metadata": {},
   "source": [
    "\n",
    "2. Write a Python program for removing i-th character from a string?"
   ]
  },
  {
   "cell_type": "code",
   "execution_count": 8,
   "metadata": {},
   "outputs": [
    {
     "name": "stdout",
     "output_type": "stream",
     "text": [
      "Nvida\n"
     ]
    }
   ],
   "source": [
    "def rm_iTH_char():\n",
    "    inpStr = input(\"Str: \")\n",
    "    inplen = int(input(\"ith Char: \"))\n",
    "    outStr = ''\n",
    "    for ele in range(len(inpStr)):\n",
    "        if ele != inplen:\n",
    "            outStr = outStr + inpStr[ele]\n",
    "    print(outStr)\n",
    "    \n",
    "rm_iTH_char()"
   ]
  },
  {
   "attachments": {},
   "cell_type": "markdown",
   "metadata": {},
   "source": [
    "\n",
    "3. Write a Python program to split and join a string?"
   ]
  },
  {
   "cell_type": "code",
   "execution_count": 9,
   "metadata": {},
   "outputs": [
    {
     "name": "stdout",
     "output_type": "stream",
     "text": [
      "Split String: ['', 'The', 'quick', 'brown', 'fox', 'jumps', 'over', 'a', 'lazy', 'dog']\n",
      "Join String:  The quick brown fox jumps over a lazy dog\n"
     ]
    }
   ],
   "source": [
    "def splitJoinStr():\n",
    "    inpStr = input('Str: ')\n",
    "    print(f\"Split String: {inpStr.split(' ')}\")\n",
    "    print(f\"Join String: {' '.join(inpStr.split(' '))}\")\n",
    "\n",
    "splitJoinStr()"
   ]
  },
  {
   "attachments": {},
   "cell_type": "markdown",
   "metadata": {},
   "source": [
    "\n",
    "4. Write a Python to check if a given string is binary string or not?"
   ]
  },
  {
   "cell_type": "code",
   "execution_count": 11,
   "metadata": {},
   "outputs": [
    {
     "name": "stdout",
     "output_type": "stream",
     "text": [
      "The quick brown fox jumps over a lazy dog is not a binary str\n",
      "45387534652967565948765986584926756765993568465826956974657639568973659765 is not a binary str\n"
     ]
    }
   ],
   "source": [
    "def cHkgivenStrIsBinary():\n",
    "    inpStr = input('Str: ')\n",
    "    stun = 0\n",
    "    for ele in inpStr:\n",
    "        if ele in ['0','1']:\n",
    "            stun = 1\n",
    "            continue\n",
    "        else:\n",
    "            stun = 0\n",
    "            break\n",
    "    statement = 'is a binary str' if stun == 1 else 'is not a binary str' \n",
    "    print(f'{inpStr} {statement}')\n",
    "\n",
    "cHkgivenStrIsBinary()\n",
    "cHkgivenStrIsBinary()"
   ]
  },
  {
   "attachments": {},
   "cell_type": "markdown",
   "metadata": {},
   "source": [
    "\n",
    "5. Write a Python program to find uncommon words from two Strings?"
   ]
  },
  {
   "cell_type": "code",
   "execution_count": 12,
   "metadata": {},
   "outputs": [
    {
     "name": "stdout",
     "output_type": "stream",
     "text": [
      "{'Desert', 'Storm', 'Rainy', 'Season'}\n"
     ]
    }
   ],
   "source": [
    "def unCommonWords():\n",
    "    inpStr1 = set(input(\"Str1: \").split(' '))\n",
    "    inpStr2 = set(input(\"Str2: \").split(' '))\n",
    "    out_string = (inpStr1.union(inpStr2)).difference(inpStr1.intersection(inpStr2))\n",
    "    print(out_string)\n",
    "\n",
    "unCommonWords()"
   ]
  },
  {
   "attachments": {},
   "cell_type": "markdown",
   "metadata": {},
   "source": [
    "\n",
    "6. Write a Python to find all duplicate characters in string?"
   ]
  },
  {
   "cell_type": "code",
   "execution_count": 13,
   "metadata": {},
   "outputs": [
    {
     "name": "stdout",
     "output_type": "stream",
     "text": [
      "Duplicate Chars are: [' ', 'e', 'u', 'a', 'r', 'o']\n"
     ]
    }
   ],
   "source": [
    "def duplicateCharsInStr():\n",
    "    inpStr = input('Str: ')\n",
    "    nonduplicatelist = []\n",
    "    duplicatelist = []\n",
    "    for ele in inpStr:\n",
    "        if ele not in nonduplicatelist:\n",
    "            nonduplicatelist.append(ele)\n",
    "        else:\n",
    "            duplicatelist.append(ele)\n",
    "    print(f'Duplicate Chars are: {list(set(duplicatelist))}')\n",
    "        \n",
    "duplicateCharsInStr()"
   ]
  },
  {
   "attachments": {},
   "cell_type": "markdown",
   "metadata": {},
   "source": [
    "7. Write a Python Program to check if a string contains any special character?"
   ]
  },
  {
   "cell_type": "code",
   "execution_count": 14,
   "metadata": {},
   "outputs": [
    {
     "name": "stdout",
     "output_type": "stream",
     "text": [
      "There are 0 Speical Characters in The quick brown fox jumps over a lazy dog which are []\n",
      "There are 0 Speical Characters in fox which are []\n"
     ]
    }
   ],
   "source": [
    "def checkSpecialChar():\n",
    "    specialChars = '[@_!#$%^&*()<>?/\\|}{~:]'\n",
    "    inpStr = input('Enter the string: ')\n",
    "    count = 0\n",
    "    charList = []\n",
    "    for ele in inpStr:\n",
    "        if ele in specialChars:\n",
    "            charList.append(ele)\n",
    "            count = count+1\n",
    "    print(f'There are {count} Speical Characters in {inpStr} which are {charList}')\n",
    "            \n",
    "        \n",
    "checkSpecialChar()\n",
    "checkSpecialChar()"
   ]
  }
 ],
 "metadata": {
  "kernelspec": {
   "display_name": "Python 3",
   "language": "python",
   "name": "python3"
  },
  "language_info": {
   "codemirror_mode": {
    "name": "ipython",
    "version": 3
   },
   "file_extension": ".py",
   "mimetype": "text/x-python",
   "name": "python",
   "nbconvert_exporter": "python",
   "pygments_lexer": "ipython3",
   "version": "3.10.6"
  },
  "orig_nbformat": 4
 },
 "nbformat": 4,
 "nbformat_minor": 2
}
