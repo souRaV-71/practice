{
 "cells": [
  {
   "attachments": {},
   "cell_type": "markdown",
   "metadata": {},
   "source": [
    "1. Write a Python Program to Display Fibonacci Sequence Using Recursion?"
   ]
  },
  {
   "cell_type": "code",
   "execution_count": 1,
   "metadata": {},
   "outputs": [
    {
     "name": "stdout",
     "output_type": "stream",
     "text": [
      "0, 1, 3, 5, 8, 13, 21, 34, 55, 89, 144, 233, "
     ]
    }
   ],
   "source": [
    "def fiboRecursion(n,a,b):\n",
    "    if n == 0:\n",
    "        return 1\n",
    "    else:\n",
    "        result = a+b\n",
    "        print(result, end=', ')\n",
    "        fiboRecursion(n-1,b,result)\n",
    "no = int(input('Enter the length of Series: '))\n",
    "print('0, 1',end=', ')\n",
    "fiboRecursion(no,1,2)"
   ]
  },
  {
   "attachments": {},
   "cell_type": "markdown",
   "metadata": {},
   "source": [
    "\n",
    "2. Write a Python Program to Find Factorial of Number Using Recursion?"
   ]
  },
  {
   "cell_type": "code",
   "execution_count": 2,
   "metadata": {},
   "outputs": [
    {
     "name": "stdout",
     "output_type": "stream",
     "text": [
      "The factNoRecursion of 10 is 3628800\n"
     ]
    }
   ],
   "source": [
    "def factNoRecursion(no):\n",
    "    if (no < 1):\n",
    "        return 1\n",
    "    else:\n",
    "        return no*factNoRecursion(no-1)\n",
    "no = int(input('Enter a no: '))\n",
    "val = factNoRecursion(no)\n",
    "print(f'The factNoRecursion of {no} is {val}')"
   ]
  },
  {
   "attachments": {},
   "cell_type": "markdown",
   "metadata": {},
   "source": [
    "\n",
    "3. Write a Python Program to calculate your Body Mass Index?"
   ]
  },
  {
   "cell_type": "code",
   "execution_count": 3,
   "metadata": {},
   "outputs": [
    {
     "name": "stdout",
     "output_type": "stream",
     "text": [
      "Your're BMI is 0.05555555555555555 and status is Underweight \n"
     ]
    }
   ],
   "source": [
    "def bmi():\n",
    "    weight = eval(input('Enter your Weight(kgs): '))\n",
    "    height = eval(input('Enter your Height(mts): '))\n",
    "    calc_bmi = weight/pow(height,2)\n",
    "    if (calc_bmi < 18.5):\n",
    "        status = 'Underweight'\n",
    "    elif (calc_bmi >= 18.5 and calc_bmi < 24.9):\n",
    "        status = 'Healthy'\n",
    "    elif (calc_bmi >= 24.9 and calc_bmi < 30):\n",
    "        status = 'Overweight'\n",
    "    elif (calc_bmi >=30):\n",
    "        status = 'Suffering from Obesity'\n",
    "    print(f'Your\\'re BMI is {calc_bmi} and status is {status} ')\n",
    "bmi()"
   ]
  },
  {
   "attachments": {},
   "cell_type": "markdown",
   "metadata": {},
   "source": [
    "\n",
    "4. Write a Python Program to calculate the natural logarithm of any number?"
   ]
  },
  {
   "cell_type": "code",
   "execution_count": 4,
   "metadata": {},
   "outputs": [
    {
     "name": "stdout",
     "output_type": "stream",
     "text": [
      "3.4011973816621555\n"
     ]
    }
   ],
   "source": [
    "import math\n",
    "\n",
    "def natLog():\n",
    "    no = eval(input(\"Number:\"))\n",
    "    print(math.log(no))\n",
    "\n",
    "natLog()"
   ]
  },
  {
   "attachments": {},
   "cell_type": "markdown",
   "metadata": {},
   "source": [
    "\n",
    "5. Write a Python Program for cube sum of first n natural numbers?"
   ]
  },
  {
   "cell_type": "code",
   "execution_count": 5,
   "metadata": {},
   "outputs": [
    {
     "name": "stdout",
     "output_type": "stream",
     "text": [
      "The Cube Sum of First 7 Natural Numbers is 784.0\n"
     ]
    }
   ],
   "source": [
    "def cube():\n",
    "    no = int(input(\"Enter the no of Natural Numbers: \"))\n",
    "    res = pow(((no * (no +1))/2),2)\n",
    "    print(f'The Cube Sum of First {no} Natural Numbers is {res}')\n",
    "\n",
    "cube()"
   ]
  }
 ],
 "metadata": {
  "kernelspec": {
   "display_name": "Python 3",
   "language": "python",
   "name": "python3"
  },
  "language_info": {
   "codemirror_mode": {
    "name": "ipython",
    "version": 3
   },
   "file_extension": ".py",
   "mimetype": "text/x-python",
   "name": "python",
   "nbconvert_exporter": "python",
   "pygments_lexer": "ipython3",
   "version": "3.10.6"
  },
  "orig_nbformat": 4
 },
 "nbformat": 4,
 "nbformat_minor": 2
}
