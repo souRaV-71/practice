{
 "cells": [
  {
   "attachments": {},
   "cell_type": "markdown",
   "metadata": {},
   "source": [
    "1. Write a Python program to Extract Unique values dictionary values?"
   ]
  },
  {
   "cell_type": "code",
   "execution_count": 2,
   "metadata": {},
   "outputs": [
    {
     "name": "stdout",
     "output_type": "stream",
     "text": [
      "dict_values(['Machine', 'Learning', 'Natural', 'Language', 'Language', 'Transformers', 'Supervised'])\n",
      "Unique Val: ['Language', 'Transformers', 'Natural', 'Machine', 'Learning', 'Supervised']\n"
     ]
    }
   ],
   "source": [
    "inpDict = {\n",
    "    1: \"Machine\",\n",
    "    2: \"Learning\",\n",
    "    3: \"Natural\",\n",
    "    4: \"Language\",\n",
    "    5: \"Language\",\n",
    "    6: \"Transformers\",\n",
    "    7: \"Supervised\",\n",
    "}\n",
    "print(inpDict.values())\n",
    "print(f\"Unique Val: {list(set(inpDict.values()))}\")"
   ]
  },
  {
   "attachments": {},
   "cell_type": "markdown",
   "metadata": {},
   "source": [
    "\n",
    "2. Write a Python program to find the sum of all items in a dictionary?"
   ]
  },
  {
   "cell_type": "code",
   "execution_count": 3,
   "metadata": {},
   "outputs": [
    {
     "name": "stdout",
     "output_type": "stream",
     "text": [
      "Sum:  170\n"
     ]
    }
   ],
   "source": [
    "inpDict = {\"A\": 10, \"B\": 20, \"C\": 30, \"D\": 40, \"E\": 70}\n",
    "print(\"Sum: \", sum(inpDict.values()))"
   ]
  },
  {
   "attachments": {},
   "cell_type": "markdown",
   "metadata": {},
   "source": [
    "\n",
    "3. Write a Python program to Merging two Dictionaries?"
   ]
  },
  {
   "cell_type": "code",
   "execution_count": 4,
   "metadata": {},
   "outputs": [
    {
     "name": "stdout",
     "output_type": "stream",
     "text": [
      "{'Name': 'Sourav', 'Course': ['Btech', 'CSE']}\n"
     ]
    }
   ],
   "source": [
    "inpDict = {\n",
    "    'Name':'Sourav'\n",
    "}\n",
    "graduation = {\n",
    "    'Course':['Btech','CSE']\n",
    "}\n",
    "inpDict.update(graduation)\n",
    "print(inpDict)"
   ]
  },
  {
   "attachments": {},
   "cell_type": "markdown",
   "metadata": {},
   "source": [
    "\n",
    "4. Write a Python program to convert key-values list to flat dictionary?"
   ]
  },
  {
   "cell_type": "code",
   "execution_count": 5,
   "metadata": {},
   "outputs": [
    {
     "name": "stdout",
     "output_type": "stream",
     "text": [
      "{'A': 10, 'B': 20, 'C': 30, 'D': 40, 'E': 50, 'F': 60, 'G': 70, 'H': 80, 'I': 90, 'J': 100}\n"
     ]
    }
   ],
   "source": [
    "inpList = [\n",
    "    (\"A\", 10),\n",
    "    (\"B\", 20),\n",
    "    (\"C\", 30),\n",
    "    (\"D\", 40),\n",
    "    (\"E\", 50),\n",
    "    (\"F\", 60),\n",
    "    (\"G\", 70),\n",
    "    (\"H\", 80),\n",
    "    (\"I\", 90),\n",
    "    (\"J\", 100),\n",
    "]\n",
    "\n",
    "# Method #1\n",
    "dict(inpList)\n",
    "\n",
    "# Method #2\n",
    "outDict = {}\n",
    "for ele in inpList:\n",
    "    outDict[ele[0]] = ele[1]\n",
    "print(outDict)"
   ]
  },
  {
   "attachments": {},
   "cell_type": "markdown",
   "metadata": {},
   "source": [
    "\n",
    "5. Write a Python program to insertion at the beginning in OrderedDict?"
   ]
  },
  {
   "cell_type": "code",
   "execution_count": 6,
   "metadata": {},
   "outputs": [
    {
     "name": "stdout",
     "output_type": "stream",
     "text": [
      "dictOne OrderedDict([('A', 'a'), ('B', 'b'), ('C', 'c')])\n",
      "dictOne OrderedDict([('A', 'a'), ('B', 'b'), ('C', 'c'), ('D', 'd')])\n",
      "dictOne OrderedDict([('D', 'd'), ('A', 'a'), ('B', 'b'), ('C', 'c')])\n"
     ]
    }
   ],
   "source": [
    "from collections import OrderedDict\n",
    "dictOne = OrderedDict({'A':'a','B':'b','C':'c'})\n",
    "print('dictOne',dictOne)\n",
    "dictTwo = {'D':'d'}\n",
    "dictOne.update(dictTwo)\n",
    "print('dictOne',dictOne)\n",
    "dictOne.move_to_end('D',last=False)\n",
    "print('dictOne',dictOne)"
   ]
  },
  {
   "attachments": {},
   "cell_type": "markdown",
   "metadata": {},
   "source": [
    "\n",
    "6. Write a Python program to check order of character in string using OrderedDict()?"
   ]
  },
  {
   "cell_type": "code",
   "execution_count": 7,
   "metadata": {},
   "outputs": [
    {
     "name": "stdout",
     "output_type": "stream",
     "text": [
      "{'a': 10, 'f': 2, 'd': 3, 'c': 4, 'b': 5, 'e': 6}\n",
      "OrderedDict([('a', 10), ('b', 5), ('c', 4), ('d', 3), ('e', 6), ('f', 2)])\n"
     ]
    }
   ],
   "source": [
    "from collections import OrderedDict\n",
    "\n",
    "initialList = {'a': 10, 'f': 2, 'd': 3, 'c': 4, 'b': 5, 'e': 6}\n",
    "print(initialList)\n",
    "\n",
    "finalList = OrderedDict(dict(sorted(initialList.items())))\n",
    "print(finalList)"
   ]
  },
  {
   "attachments": {},
   "cell_type": "markdown",
   "metadata": {},
   "source": [
    "\n",
    "7. Write a Python program to sort Python Dictionaries by Key or Value?"
   ]
  },
  {
   "cell_type": "code",
   "execution_count": 8,
   "metadata": {},
   "outputs": [
    {
     "name": "stdout",
     "output_type": "stream",
     "text": [
      "{'P': 10, 'Q': 20, 'R': 60, 'S': 30}\n",
      "{'P': 10, 'Q': 20, 'S': 30, 'R': 60}\n"
     ]
    }
   ],
   "source": [
    "d_items = {'P':10,'Q':20,'R':60,'S':30}\n",
    "\n",
    "def sort_dict(in_dict,sort_type):\n",
    "    if sort_type == 'key':\n",
    "        print(dict(sorted(in_dict.items(), key=lambda x:x[0], reverse=False)))\n",
    "    else:\n",
    "        print(dict(sorted(in_dict.items(), key=lambda x:x[1], reverse=False)))\n",
    "        \n",
    "sort_dict(d_items,'key')        \n",
    "sort_dict(d_items,'value')"
   ]
  }
 ],
 "metadata": {
  "kernelspec": {
   "display_name": "Python 3",
   "language": "python",
   "name": "python3"
  },
  "language_info": {
   "codemirror_mode": {
    "name": "ipython",
    "version": 3
   },
   "file_extension": ".py",
   "mimetype": "text/x-python",
   "name": "python",
   "nbconvert_exporter": "python",
   "pygments_lexer": "ipython3",
   "version": "3.10.6"
  },
  "orig_nbformat": 4
 },
 "nbformat": 4,
 "nbformat_minor": 2
}
