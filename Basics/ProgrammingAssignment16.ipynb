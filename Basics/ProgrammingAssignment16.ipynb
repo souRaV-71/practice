{
 "cells": [
  {
   "attachments": {},
   "cell_type": "markdown",
   "metadata": {},
   "source": [
    "Question1. Write a function that stutters a word as if someone is struggling to read it. The\n",
    "first two letters are repeated twice with an ellipsis ... and space after each, and then the\n",
    "word is pronounced with a question mark ?.\n",
    "Examples\n",
    "stutter(&quot;incredible&quot;) ➞ &quot;in... in... incredible?&quot;\n",
    "stutter(&quot;enthusiastic&quot;) ➞ &quot;en... en... enthusiastic?&quot;\n",
    "stutter(&quot;outstanding&quot;) ➞ &quot;ou... ou... outstanding?&quot;\n",
    "\n",
    "Hint :- Assume all input is in lower case and at least two characters long.\n"
   ]
  },
  {
   "cell_type": "code",
   "execution_count": 1,
   "metadata": {},
   "outputs": [
    {
     "name": "stdout",
     "output_type": "stream",
     "text": [
      "ljfeialjflsdnaflkglwegh ➞ lj... lj... ljfeialj... lj... ljflsdnaflkglwegh?\n",
      "oeoiurouwhvgasljg ➞ oe... oe... oeoiurouwhvgasljg?\n",
      "Raining ➞ Ra... Ra... Raining?\n"
     ]
    }
   ],
   "source": [
    "def stutterfunc():\n",
    "    inpStr = input('I/P Str:')\n",
    "    outStr = inpStr.replace(inpStr[0:2],((inpStr[0:2]+'... ')*2)+ inpStr[0:2]) +'?'\n",
    "    print(f'{inpStr} ➞ {outStr}')\n",
    "\n",
    "for i in range(3):\n",
    "    stutterfunc()"
   ]
  },
  {
   "attachments": {},
   "cell_type": "markdown",
   "metadata": {},
   "source": [
    "\n",
    "Question 2.Create a function that takes an angle in radians and returns the corresponding\n",
    "angle in degrees rounded to one decimal place.\n",
    "Examples\n",
    "radians_to_degrees(1) ➞ 57.3\n",
    "radians_to_degrees(20) ➞ 1145.9\n",
    "radians_to_degrees(50) ➞ 2864.8\n"
   ]
  },
  {
   "cell_type": "code",
   "execution_count": 2,
   "metadata": {},
   "outputs": [
    {
     "name": "stdout",
     "output_type": "stream",
     "text": [
      "11245 radian(s) ➞ 644291.0 degrees\n",
      "4535453 radian(s) ➞ 259862315.1 degrees\n",
      "42434 radian(s) ➞ 2431289.1 degrees\n"
     ]
    }
   ],
   "source": [
    "import math\n",
    "def radToDeg():\n",
    "    inpNo = int(input('Enter the angle in Radians: '))\n",
    "    outNo = (180/math.pi)*inpNo\n",
    "    print(f'{inpNo} radian(s) ➞ {outNo:.1f} degrees')\n",
    "\n",
    "for x in range(3):\n",
    "    radToDeg()"
   ]
  },
  {
   "attachments": {},
   "cell_type": "markdown",
   "metadata": {},
   "source": [
    "\n",
    "Question 3. In this challenge, establish if a given integer num is a Curzon number. If 1 plus\n",
    "2 elevated to num is exactly divisible by 1 plus 2 multiplied by num, then num is a Curzon\n",
    "number.\n",
    "Given a non-negative integer num, implement a function that returns True if num is a Curzon\n",
    "number, or False otherwise.\n",
    "Examples\n",
    "is_curzon(5) ➞ True\n",
    "# 2 ** 5 + 1 = 33\n",
    "# 2 * 5 + 1 = 11\n",
    "# 33 is a multiple of 11\n",
    "is_curzon(10) ➞ False\n",
    "# 2 ** 10 + 1 = 1025\n",
    "# 2 * 10 + 1 = 21\n",
    "# 1025 is not a multiple of 21\n",
    "is_curzon(14) ➞ True\n",
    "# 2 ** 14 + 1 = 16385\n",
    "# 2 * 14 + 1 = 29\n",
    "# 16385 is a multiple of 29\n"
   ]
  },
  {
   "cell_type": "code",
   "execution_count": 4,
   "metadata": {},
   "outputs": [
    {
     "name": "stdout",
     "output_type": "stream",
     "text": [
      "5 is a Curzon No\n",
      "10 is Not a Curzon No\n",
      "10 is Not a Curzon No\n",
      "14 is a Curzon No\n"
     ]
    }
   ],
   "source": [
    "def isCurzon():\n",
    "    inpNo = int(input(\"No: \"))\n",
    "    if (pow(2,inpNo)+1)%((2*inpNo)+1) == 0:\n",
    "        print(f'{inpNo} is a Curzon No')\n",
    "    else:\n",
    "        print(f'{inpNo} is Not a Curzon No')\n",
    "\n",
    "for x in range(4):\n",
    "    isCurzon()"
   ]
  },
  {
   "attachments": {},
   "cell_type": "markdown",
   "metadata": {},
   "source": [
    "\n",
    "Question 4.Given the side length x find the area of a hexagon.\n",
    "\n",
    "Examples\n",
    "area_of_hexagon(1) ➞ 2.6\n",
    "area_of_hexagon(2) ➞ 10.4\n",
    "area_of_hexagon(3) ➞ 23.4\n"
   ]
  },
  {
   "cell_type": "code",
   "execution_count": 5,
   "metadata": {},
   "outputs": [
    {
     "name": "stdout",
     "output_type": "stream",
     "text": [
      "Area for Hexagon of sidelength 40 ➞ 4156.9\n",
      "Area for Hexagon of sidelength 25 ➞ 1623.8\n",
      "Area for Hexagon of sidelength 45 ➞ 5261.1\n"
     ]
    }
   ],
   "source": [
    "import math\n",
    "def areaHex():\n",
    "    inpNo = int(input('Hexagon length: '))\n",
    "    outNo = ((3*math.sqrt(3))/2)*(pow(inpNo,2))\n",
    "    print(f'Area for Hexagon of sidelength {inpNo} ➞ {outNo:.1f}')\n",
    "    \n",
    "for x in range(3):\n",
    "    areaHex()"
   ]
  },
  {
   "attachments": {},
   "cell_type": "markdown",
   "metadata": {},
   "source": [
    "\n",
    "Question 5. Create a function that returns a base-2 (binary) representation of a base-10\n",
    "(decimal) string number. To convert is simple: ((2) means base-2 and (10) means base-10)\n",
    "010101001(2) = 1 + 8 + 32 + 128.\n",
    "Going from right to left, the value of the most right bit is 1, now from that every bit to the left\n",
    "will be x2 the value, value of an 8 bit binary numbers are (256, 128, 64, 32, 16, 8, 4, 2, 1).\n",
    "Examples\n",
    "binary(1) ➞ &quot;1&quot;\n",
    "# 1*1 = 1\n",
    "binary(5) ➞ &quot;101&quot;\n",
    "# 1*1 + 1*4 = 5\n",
    "binary(10) ➞ &quot;1010&quot;\n",
    "# 1*2 + 1*8 = 10"
   ]
  },
  {
   "cell_type": "code",
   "execution_count": 6,
   "metadata": {},
   "outputs": [
    {
     "name": "stdout",
     "output_type": "stream",
     "text": [
      "Binary of 10 ➞ 1010\n",
      "Binary of 100 ➞ 1100100\n",
      "Binary of 40 ➞ 101000\n"
     ]
    }
   ],
   "source": [
    "def getBinary():\n",
    "    inpNo = int(input(\"Nn: \"))\n",
    "    outNo = bin(inpNo).replace('0b','') \n",
    "    print(f'Binary of {inpNo} ➞ {outNo}')\n",
    "\n",
    "for x in range(3):\n",
    "    getBinary()"
   ]
  }
 ],
 "metadata": {
  "kernelspec": {
   "display_name": "Python 3",
   "language": "python",
   "name": "python3"
  },
  "language_info": {
   "codemirror_mode": {
    "name": "ipython",
    "version": 3
   },
   "file_extension": ".py",
   "mimetype": "text/x-python",
   "name": "python",
   "nbconvert_exporter": "python",
   "pygments_lexer": "ipython3",
   "version": "3.10.6"
  },
  "orig_nbformat": 4
 },
 "nbformat": 4,
 "nbformat_minor": 2
}
