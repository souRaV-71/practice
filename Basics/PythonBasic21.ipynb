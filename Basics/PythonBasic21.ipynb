{
 "cells": [
  {
   "attachments": {},
   "cell_type": "markdown",
   "metadata": {},
   "source": [
    "1. Add the current date to the text file today.txt as a string.\n"
   ]
  },
  {
   "cell_type": "code",
   "execution_count": 1,
   "metadata": {},
   "outputs": [
    {
     "name": "stdout",
     "output_type": "stream",
     "text": [
      "06-06-2023\n"
     ]
    }
   ],
   "source": [
    "import datetime\n",
    "\n",
    "file = open('today.txt','w')\n",
    "file.write(datetime.datetime.now().strftime(\"%d-%m-%Y\"))\n",
    "file.close()\n",
    "\n",
    "file = open('today.txt','r')\n",
    "print(file.read())\n",
    "file.close()"
   ]
  },
  {
   "attachments": {},
   "cell_type": "markdown",
   "metadata": {},
   "source": [
    "2. Read the text file today.txt into the string today_string\n"
   ]
  },
  {
   "cell_type": "code",
   "execution_count": 2,
   "metadata": {},
   "outputs": [
    {
     "name": "stdout",
     "output_type": "stream",
     "text": [
      "06-06-2023\n"
     ]
    }
   ],
   "source": [
    "file = open('today.txt','r')\n",
    "today_string = file.read()\n",
    "print(today_string)"
   ]
  },
  {
   "attachments": {},
   "cell_type": "markdown",
   "metadata": {},
   "source": [
    "3. Parse the date from today_string.\n"
   ]
  },
  {
   "cell_type": "code",
   "execution_count": 4,
   "metadata": {},
   "outputs": [
    {
     "name": "stdout",
     "output_type": "stream",
     "text": [
      "2023-06-06 00:00:00\n"
     ]
    }
   ],
   "source": [
    "from datetime import datetime\n",
    "parsedData = datetime.strptime(today_string, '%d-%m-%Y')\n",
    "print(parsedData)"
   ]
  },
  {
   "attachments": {},
   "cell_type": "markdown",
   "metadata": {},
   "source": [
    "4. List the files in your current directory\n"
   ]
  },
  {
   "cell_type": "code",
   "execution_count": 5,
   "metadata": {},
   "outputs": [
    {
     "name": "stdout",
     "output_type": "stream",
     "text": [
      "PythonBasic9.ipynb\n",
      "PythonBasic17.ipynb\n",
      "PythonBasic20.ipynb\n",
      "PythonBasic16.ipynb\n",
      "PythonBasic7.ipynb\n",
      "PythonBasic24.ipynb\n",
      "PythonBasic14.ipynb\n",
      "PythonBasic8.ipynb\n",
      "PythonBasic10.ipynb\n",
      "PythonBasic4.ipynb\n",
      "books.db\n",
      "PythonBasic1.ipynb\n",
      "PythonBasic2.ipynb\n",
      "PythonBasic15.ipynb\n",
      "PythonBasic3.ipynb\n",
      "PythonBasic12.ipynb\n",
      "PythonBasic5.ipynb\n",
      "PythonBasic19.ipynb\n",
      "zoo.py\n",
      "books.csv\n",
      "PythonBasic25.ipynb\n",
      "PythonBasic18.ipynb\n",
      "PythonBasic23.ipynb\n",
      "PythonBasic6.ipynb\n",
      "PythonBasic13.ipynb\n",
      "PythonBasic21.ipynb\n",
      "test.txt\n",
      "PythonBasic11.ipynb\n",
      "PythonBasic22.ipynb\n",
      "today.txt\n"
     ]
    }
   ],
   "source": [
    "import os\n",
    "for folders, subfolders, files in os.walk(os.getcwd()):\n",
    "    for file in files:\n",
    "        print(file)"
   ]
  },
  {
   "attachments": {},
   "cell_type": "markdown",
   "metadata": {},
   "source": [
    "5. Create a list of all of the files in your parent directory (minimum five files should be available)"
   ]
  },
  {
   "cell_type": "code",
   "execution_count": 6,
   "metadata": {},
   "outputs": [
    {
     "data": {
      "text/plain": [
       "['PythonBasic9.ipynb',\n",
       " 'PythonBasic17.ipynb',\n",
       " 'PythonBasic20.ipynb',\n",
       " 'PythonBasic16.ipynb',\n",
       " 'PythonBasic7.ipynb',\n",
       " 'PythonBasic24.ipynb',\n",
       " 'PythonBasic14.ipynb',\n",
       " 'PythonBasic8.ipynb',\n",
       " 'PythonBasic10.ipynb',\n",
       " 'PythonBasic4.ipynb',\n",
       " 'books.db',\n",
       " 'PythonBasic1.ipynb',\n",
       " 'PythonBasic2.ipynb',\n",
       " 'PythonBasic15.ipynb',\n",
       " 'PythonBasic3.ipynb',\n",
       " 'PythonBasic12.ipynb',\n",
       " 'PythonBasic5.ipynb',\n",
       " 'PythonBasic19.ipynb',\n",
       " 'zoo.py',\n",
       " 'books.csv',\n",
       " 'PythonBasic25.ipynb',\n",
       " 'PythonBasic18.ipynb',\n",
       " 'PythonBasic23.ipynb',\n",
       " 'PythonBasic6.ipynb',\n",
       " 'PythonBasic13.ipynb',\n",
       " 'PythonBasic21.ipynb',\n",
       " 'test.txt',\n",
       " 'PythonBasic11.ipynb',\n",
       " 'PythonBasic22.ipynb',\n",
       " 'today.txt']"
      ]
     },
     "execution_count": 6,
     "metadata": {},
     "output_type": "execute_result"
    }
   ],
   "source": [
    "import os \n",
    "os.listdir()"
   ]
  },
  {
   "attachments": {},
   "cell_type": "markdown",
   "metadata": {},
   "source": [
    "6. Use multiprocessing to create three separate processes. Make each one wait a random number of\n",
    "seconds between one and five, print the current time, and then exit."
   ]
  },
  {
   "cell_type": "code",
   "execution_count": 8,
   "metadata": {},
   "outputs": [
    {
     "name": "stdout",
     "output_type": "stream",
     "text": [
      "ProcessOneStart -> 2023-06-06 21:39:36.191946\n",
      "ProcessTwoStart -> 2023-06-06 21:39:36.206329\n",
      "ProcessOneStart -> 2023-06-06 21:39:36.220107\n"
     ]
    },
    {
     "name": "stdout",
     "output_type": "stream",
     "text": [
      "ProcessOneEnd -> 2023-06-06 21:39:39.212113\n",
      "ProcessTwoEnd -> 2023-06-06 21:39:40.233423\n",
      "ProcessTwoEnd -> 2023-06-06 21:39:41.227171\n"
     ]
    }
   ],
   "source": [
    "import multiprocessing\n",
    "import time \n",
    "import random\n",
    "import datetime\n",
    "\n",
    "def prOne():\n",
    "    print(f'ProcessOneStart -> {datetime.datetime.now()}')\n",
    "    time.sleep(random.randint(1,5))\n",
    "    print(f'ProcessOneEnd -> {datetime.datetime.now()}')\n",
    "    \n",
    "def prTwo():\n",
    "    print(f'ProcessTwoStart -> {datetime.datetime.now()}')\n",
    "    time.sleep(random.randint(1,5))\n",
    "    print(f'ProcessTwoEnd -> {datetime.datetime.now()}')\n",
    "\n",
    "def prThree():\n",
    "    print(f'ProcessOneStart -> {datetime.datetime.now()}')\n",
    "    time.sleep(random.randint(1,5))\n",
    "    print(f'ProcessTwoEnd -> {datetime.datetime.now()}')\n",
    "    \n",
    "if __name__ == \"__main__\":    \n",
    "    p1 = multiprocessing.Process(target=prOne)\n",
    "    p2 = multiprocessing.Process(target=prTwo)\n",
    "    p3 = multiprocessing.Process(target=prThree)\n",
    "\n",
    "    p1.start()\n",
    "    p2.start()\n",
    "    p3.start()\n",
    "\n",
    "    p1.join()\n",
    "    p2.join()\n",
    "    p3.join()"
   ]
  },
  {
   "attachments": {},
   "cell_type": "markdown",
   "metadata": {},
   "source": [
    "\n",
    "7. Create a date object of your day of birth."
   ]
  },
  {
   "cell_type": "code",
   "execution_count": 9,
   "metadata": {},
   "outputs": [
    {
     "name": "stdout",
     "output_type": "stream",
     "text": [
      "1998-01-06 00:00:00 <class 'datetime.datetime'>\n"
     ]
    }
   ],
   "source": [
    "from datetime import datetime\n",
    "DOB = datetime.strptime('06/01/1998','%d/%m/%Y')\n",
    "print(DOB, type(DOB))"
   ]
  },
  {
   "attachments": {},
   "cell_type": "markdown",
   "metadata": {},
   "source": [
    "8. What day of the week was your day of birth?"
   ]
  },
  {
   "cell_type": "code",
   "execution_count": 10,
   "metadata": {},
   "outputs": [
    {
     "data": {
      "text/plain": [
       "'Tuesday'"
      ]
     },
     "execution_count": 10,
     "metadata": {},
     "output_type": "execute_result"
    }
   ],
   "source": [
    "from datetime import datetime\n",
    "DOB = datetime(1998,1,6)\n",
    "DOB.strftime(\"%A\")"
   ]
  },
  {
   "attachments": {},
   "cell_type": "markdown",
   "metadata": {},
   "source": [
    "9. When will you be (or when were you) 10,000 days old?"
   ]
  },
  {
   "cell_type": "code",
   "execution_count": 11,
   "metadata": {},
   "outputs": [
    {
     "data": {
      "text/plain": [
       "datetime.datetime(1970, 8, 21, 0, 0)"
      ]
     },
     "execution_count": 11,
     "metadata": {},
     "output_type": "execute_result"
    }
   ],
   "source": [
    "from datetime import datetime, timedelta\n",
    "DOB = datetime.strptime(\"06/01/1998\",'%d/%m/%Y')\n",
    "future_date = DOB-timedelta(10000)\n",
    "future_date"
   ]
  }
 ],
 "metadata": {
  "kernelspec": {
   "display_name": "Python 3",
   "language": "python",
   "name": "python3"
  },
  "language_info": {
   "codemirror_mode": {
    "name": "ipython",
    "version": 3
   },
   "file_extension": ".py",
   "mimetype": "text/x-python",
   "name": "python",
   "nbconvert_exporter": "python",
   "pygments_lexer": "ipython3",
   "version": "3.10.6"
  },
  "orig_nbformat": 4
 },
 "nbformat": 4,
 "nbformat_minor": 2
}
