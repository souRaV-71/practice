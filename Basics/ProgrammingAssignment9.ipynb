{
 "cells": [
  {
   "attachments": {},
   "cell_type": "markdown",
   "metadata": {},
   "source": [
    "1. Write a Python program to check if the given number is a Disarium Number?"
   ]
  },
  {
   "cell_type": "code",
   "execution_count": 1,
   "metadata": {},
   "outputs": [
    {
     "name": "stdout",
     "output_type": "stream",
     "text": [
      "5783 is a Not Disarium Number\n",
      "64 is a Not Disarium Number\n"
     ]
    }
   ],
   "source": [
    "def cHkDisariumNo():\n",
    "    inpNo = input('Enter a Number:')\n",
    "    sum = 0\n",
    "    for item in range(len(inpNo)):\n",
    "        sum = sum + int(inpNo[item])**(item+1)\n",
    "    if sum == int(inpNo):\n",
    "        print(f'{inpNo} is a Disarium Number')\n",
    "    else:\n",
    "        print(f'{inpNo} is a Not Disarium Number') \n",
    "\n",
    "cHkDisariumNo()\n",
    "cHkDisariumNo()"
   ]
  },
  {
   "attachments": {},
   "cell_type": "markdown",
   "metadata": {},
   "source": [
    "\n",
    "2. Write a Python program to print all disarium numbers between 1 to 100?"
   ]
  },
  {
   "cell_type": "code",
   "execution_count": 2,
   "metadata": {},
   "outputs": [
    {
     "data": {
      "text/plain": [
       "[1, 2, 3, 4, 5, 6, 7, 8, 9, 89, 135, 175, 518, 598]"
      ]
     },
     "execution_count": 2,
     "metadata": {},
     "output_type": "execute_result"
    }
   ],
   "source": [
    "def prntDisariumNosInRange(start=0,end=100):\n",
    "    outNo = []\n",
    "    for number in range(start,end+1):\n",
    "        sum = 0\n",
    "        for item in range(len(str(number))):\n",
    "            sum = sum + int(str(number)[item])**(item+1)\n",
    "        if sum == number:\n",
    "            outNo.append(number)\n",
    "    return outNo\n",
    "            \n",
    "        \n",
    "prntDisariumNosInRange(1,1000)"
   ]
  },
  {
   "attachments": {},
   "cell_type": "markdown",
   "metadata": {},
   "source": [
    "\n",
    "3. Write a Python program to check if the given number is Happy Number?"
   ]
  },
  {
   "cell_type": "code",
   "execution_count": 3,
   "metadata": {},
   "outputs": [
    {
     "name": "stdout",
     "output_type": "stream",
     "text": [
      "739484 is not a Happy Number\n",
      "8329843 is not a Happy Number\n"
     ]
    }
   ],
   "source": [
    "def cHkHappyNo():\n",
    "    inpNo = input('Enter a Number:')\n",
    "    inpNoDuplicate = inpNo\n",
    "    trackNumber = set()   \n",
    "    while True:\n",
    "        if inpNo != '1' and str(inpNo) not in trackNumber:\n",
    "            trackNumber.add(inpNo)\n",
    "            sum = 0\n",
    "            for ele in range(len((inpNo))):\n",
    "                sum = sum + int(inpNo[ele])**2\n",
    "            inpNo = str(sum)\n",
    "        elif str(inpNo) in trackNumber:\n",
    "            print(f'{inpNoDuplicate} is not a Happy Number')\n",
    "            break\n",
    "        else:\n",
    "            print(f'{inpNoDuplicate} is a Happy Number')\n",
    "            break\n",
    "\n",
    "cHkHappyNo()\n",
    "cHkHappyNo()"
   ]
  },
  {
   "attachments": {},
   "cell_type": "markdown",
   "metadata": {},
   "source": [
    "\n",
    "4. Write a Python program to print all happy numbers between 1 and 100?"
   ]
  },
  {
   "cell_type": "code",
   "execution_count": 4,
   "metadata": {},
   "outputs": [
    {
     "name": "stdout",
     "output_type": "stream",
     "text": [
      "The Happy Numbers between 0 and 100 are [1, 7, 10, 13, 19, 23, 28, 31, 32, 44, 49, 68, 70, 79, 82, 86, 91, 94, 97, 100]\n"
     ]
    }
   ],
   "source": [
    "def cHkHappyNoInRange(start=0,end=100):\n",
    "    HappyNoList = []\n",
    "    for inpNo in range(start,end+1):\n",
    "        inpNo = str(inpNo)\n",
    "        inumHolder = inpNo\n",
    "        trackNumber = set()   \n",
    "        while True:\n",
    "            if inpNo != '1' and str(inpNo) not in trackNumber:\n",
    "                trackNumber.add(inpNo)\n",
    "                sum = 0\n",
    "                for ele in range(len((inpNo))):\n",
    "                    sum = sum + int(inpNo[ele])**2\n",
    "                inpNo = str(sum)\n",
    "            elif str(inpNo) in trackNumber:\n",
    "                break\n",
    "            else:\n",
    "                HappyNoList.append(int(inumHolder))\n",
    "                break\n",
    "    print(f'The Happy Numbers between {start} and {end} are {HappyNoList}')\n",
    "    \n",
    "cHkHappyNoInRange(0,100)"
   ]
  },
  {
   "attachments": {},
   "cell_type": "markdown",
   "metadata": {},
   "source": [
    "\n",
    "5. Write a Python program to determine whether the given number is a Harshad Number?"
   ]
  },
  {
   "cell_type": "code",
   "execution_count": 5,
   "metadata": {},
   "outputs": [
    {
     "name": "stdout",
     "output_type": "stream",
     "text": [
      "40 is a Harshad Number\n",
      "34 is a Not Harshad Number\n"
     ]
    }
   ],
   "source": [
    "def cHkHarshadNo():\n",
    "    inpNo = input('Enter a Number:')\n",
    "    sum = 0\n",
    "    for item in range(len(inpNo)):\n",
    "        sum = sum + int(inpNo[item])\n",
    "    if int(inpNo)%sum == 0:\n",
    "        print(f'{inpNo} is a Harshad Number')\n",
    "    else:\n",
    "        print(f'{inpNo} is a Not Harshad Number')\n",
    "        \n",
    "cHkHarshadNo()\n",
    "cHkHarshadNo()"
   ]
  },
  {
   "attachments": {},
   "cell_type": "markdown",
   "metadata": {},
   "source": [
    "\n",
    "6. Write a Python program to print all pronic numbers between 1 and 100?"
   ]
  },
  {
   "cell_type": "code",
   "execution_count": 6,
   "metadata": {},
   "outputs": [
    {
     "name": "stdout",
     "output_type": "stream",
     "text": [
      "[0, 2, 6, 12, 20, 30, 42, 56, 72, 90, 110, 132, 156, 182, 210, 240, 272, 306, 342, 380, 420, 462, 506, 552, 600, 650, 702, 756, 812, 870, 930, 992, 1056, 1122, 1190, 1260, 1332, 1406, 1482, 1560, 1640, 1722, 1806, 1892, 1980, 2070, 2162, 2256, 2352, 2450, 2550, 2652, 2756, 2862, 2970, 3080, 3192, 3306, 3422, 3540, 3660, 3782, 3906, 4032, 4160, 4290, 4422, 4556, 4692, 4830, 4970, 5112, 5256, 5402, 5550, 5700, 5852, 6006, 6162, 6320, 6480, 6642, 6806, 6972, 7140, 7310, 7482, 7656, 7832, 8010, 8190, 8372, 8556, 8742, 8930, 9120, 9312, 9506, 9702, 9900, 10100]\n"
     ]
    }
   ],
   "source": [
    "def pronicNo(start=0,end=100):\n",
    "    outList = []\n",
    "    for ele in range(start,end+1):\n",
    "        outList.append((ele)*(ele+1))\n",
    "    print(outList)\n",
    "                   \n",
    "pronicNo()"
   ]
  }
 ],
 "metadata": {
  "kernelspec": {
   "display_name": "Python 3",
   "language": "python",
   "name": "python3"
  },
  "language_info": {
   "codemirror_mode": {
    "name": "ipython",
    "version": 3
   },
   "file_extension": ".py",
   "mimetype": "text/x-python",
   "name": "python",
   "nbconvert_exporter": "python",
   "pygments_lexer": "ipython3",
   "version": "3.10.6"
  },
  "orig_nbformat": 4
 },
 "nbformat": 4,
 "nbformat_minor": 2
}
