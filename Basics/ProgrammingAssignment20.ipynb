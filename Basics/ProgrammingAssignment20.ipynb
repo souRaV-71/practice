{
 "cells": [
  {
   "attachments": {},
   "cell_type": "markdown",
   "metadata": {},
   "source": [
    "Question1\n",
    "Create a function that takes a list of strings and integers, and filters out the list so that it\n",
    "returns a list of integers only.\n",
    "Examples\n",
    "filter_list([1, 2, 3, &quot;a&quot;, &quot;b&quot;, 4]) ➞ [1, 2, 3, 4]\n",
    "filter_list([&quot;A&quot;, 0, &quot;Edabit&quot;, 1729, &quot;Python&quot;, &quot;1729&quot;]) ➞ [0, 1729]\n",
    "filter_list([&quot;Nothing&quot;, &quot;here&quot;]) ➞ []\n"
   ]
  },
  {
   "cell_type": "code",
   "execution_count": 1,
   "metadata": {},
   "outputs": [
    {
     "name": "stdout",
     "output_type": "stream",
     "text": [
      "Output ➞ [1, 2, 3, 4]\n",
      "Output ➞ [0, 1729]\n",
      "Output ➞ []\n"
     ]
    }
   ],
   "source": [
    "def lst(inpList):\n",
    "    outList = []\n",
    "    for i in inpList:\n",
    "        if type(i) == int:\n",
    "            outList.append(i)\n",
    "    print(f'Output ➞ {outList}')\n",
    "\n",
    "lst([1, 2, 3, \"a\", \"b\", 4])\n",
    "lst([\"A\", 0, \"Edabit\", 1729, \"Python\", \"1729\"])\n",
    "lst([\"Nothing\", \"here\"])"
   ]
  },
  {
   "attachments": {},
   "cell_type": "markdown",
   "metadata": {},
   "source": [
    "\n",
    "Question2\n",
    "Given a list of numbers, create a function which returns the list but with each element&#39;s\n",
    "index in the list added to itself. This means you add 0 to the number at index 0, add 1 to the\n",
    "number at index 1, etc...\n",
    "Examples\n",
    "add_indexes([0, 0, 0, 0, 0]) ➞ [0, 1, 2, 3, 4]\n",
    "add_indexes([1, 2, 3, 4, 5]) ➞ [1, 3, 5, 7, 9]\n",
    "add_indexes([5, 4, 3, 2, 1]) ➞ [5, 5, 5, 5, 5]\n"
   ]
  },
  {
   "cell_type": "code",
   "execution_count": 2,
   "metadata": {},
   "outputs": [
    {
     "name": "stdout",
     "output_type": "stream",
     "text": [
      "[0, 0, 0, 0, 0] ➞ [0, 1, 2, 3, 4]\n",
      "[1, 2, 3, 4, 5] ➞ [1, 3, 5, 7, 9]\n",
      "[5, 4, 3, 2, 1] ➞ [5, 5, 5, 5, 5]\n"
     ]
    }
   ],
   "source": [
    "def add_indexes(inpList):\n",
    "    outList = []\n",
    "    for i in range(len(inpList)):\n",
    "        outList.append(i+inpList[i])\n",
    "    print(f'{inpList} ➞ {outList}')\n",
    "        \n",
    "add_indexes([0, 0, 0, 0, 0])\n",
    "add_indexes([1, 2, 3, 4, 5])\n",
    "add_indexes([5, 4, 3, 2, 1])"
   ]
  },
  {
   "attachments": {},
   "cell_type": "markdown",
   "metadata": {},
   "source": [
    "\n",
    "Question3\n",
    "Create a function that takes the height and radius of a cone as arguments and returns the\n",
    "volume of the cone rounded to the nearest hundredth. See the resources tab for the formula.\n",
    "\n",
    "Examples\n",
    "cone_volume(3, 2) ➞ 12.57\n",
    "\n",
    "cone_volume(15, 6) ➞ 565.49\n",
    "cone_volume(18, 0) ➞ 0\n"
   ]
  },
  {
   "cell_type": "code",
   "execution_count": 3,
   "metadata": {},
   "outputs": [
    {
     "name": "stdout",
     "output_type": "stream",
     "text": [
      "Output ➞ 12.57\n",
      "Output ➞ 565.49\n",
      "Output ➞ 0.00\n"
     ]
    }
   ],
   "source": [
    "import math\n",
    "\n",
    "def cone_volume(height, radius):\n",
    "    output = ((math.pi)*pow(radius,2))*(height/3)\n",
    "    print(f'Output ➞ {output:.2f}')\n",
    "\n",
    "cone_volume(3,2) \n",
    "cone_volume(15,6)    \n",
    "cone_volume(18,0)"
   ]
  },
  {
   "attachments": {},
   "cell_type": "markdown",
   "metadata": {},
   "source": [
    "\n",
    "Question4\n",
    "This Triangular Number Sequence is generated from a pattern of dots that form a triangle.\n",
    "The first 5 numbers of the sequence, or dots, are:\n",
    "1, 3, 6, 10, 15\n",
    "This means that the first triangle has just one dot, the second one has three dots, the third one\n",
    "has 6 dots and so on.\n",
    "Write a function that gives the number of dots with its corresponding triangle number of the\n",
    "sequence.\n",
    "Examples\n",
    "triangle(1) ➞ 1\n",
    "triangle(6) ➞ 21\n",
    "triangle(215) ➞ 23220\n"
   ]
  },
  {
   "cell_type": "code",
   "execution_count": 4,
   "metadata": {},
   "outputs": [
    {
     "name": "stdout",
     "output_type": "stream",
     "text": [
      "Output ➞ 1\n",
      "Output ➞ 21\n",
      "Output ➞ 23220\n"
     ]
    }
   ],
   "source": [
    "def triangle(inpNo):\n",
    "    print(f'Output ➞ {int((inpNo)*((inpNo+1)/2))}')\n",
    "\n",
    "triangle(1)\n",
    "triangle(6)\n",
    "triangle(215)"
   ]
  },
  {
   "attachments": {},
   "cell_type": "markdown",
   "metadata": {},
   "source": [
    "\n",
    "Question5\n",
    "Create a function that takes a list of numbers between 1 and 10 (excluding one number) and\n",
    "returns the missing number.\n",
    "Examples\n",
    "missing_num([1, 2, 3, 4, 6, 7, 8, 9, 10]) ➞ 5\n",
    "missing_num([7, 2, 3, 6, 5, 9, 1, 4, 8]) ➞ 10\n",
    "missing_num([10, 5, 1, 2, 4, 6, 8, 3, 9]) ➞ 7"
   ]
  },
  {
   "cell_type": "code",
   "execution_count": 5,
   "metadata": {},
   "outputs": [
    {
     "name": "stdout",
     "output_type": "stream",
     "text": [
      "[1, 2, 3, 4, 6, 7, 8, 9, 10] ➞ 5\n",
      "[7, 2, 3, 6, 5, 9, 1, 4, 8] ➞ 10\n",
      "[10, 5, 1, 2, 4, 6, 8, 3, 9] ➞ 7\n"
     ]
    }
   ],
   "source": [
    "def missing_num(inpList):\n",
    "    for i in range(1,11):\n",
    "        if i not in inpList:\n",
    "            print(f'{inpList} ➞ {i}')\n",
    "\n",
    "missing_num([1, 2, 3, 4, 6, 7, 8, 9, 10])\n",
    "missing_num([7, 2, 3, 6, 5, 9, 1, 4, 8])\n",
    "missing_num([10, 5, 1, 2, 4, 6, 8, 3, 9])"
   ]
  }
 ],
 "metadata": {
  "kernelspec": {
   "display_name": "Python 3",
   "language": "python",
   "name": "python3"
  },
  "language_info": {
   "codemirror_mode": {
    "name": "ipython",
    "version": 3
   },
   "file_extension": ".py",
   "mimetype": "text/x-python",
   "name": "python",
   "nbconvert_exporter": "python",
   "pygments_lexer": "ipython3",
   "version": "3.10.6"
  },
  "orig_nbformat": 4
 },
 "nbformat": 4,
 "nbformat_minor": 2
}
