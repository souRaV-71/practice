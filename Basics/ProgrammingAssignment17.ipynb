{
 "cells": [
  {
   "attachments": {},
   "cell_type": "markdown",
   "metadata": {},
   "source": [
    "Question1. Create a function that takes three arguments a, b, c and returns the sum of the\n",
    "numbers that are evenly divided by c from the range a, b inclusive.\n",
    "Examples\n",
    "evenly_divisible(1, 10, 20) ➞ 0\n",
    "# No number between 1 and 10 can be evenly divided by 20.\n",
    "evenly_divisible(1, 10, 2) ➞ 30\n",
    "# 2 + 4 + 6 + 8 + 10 = 30\n",
    "evenly_divisible(1, 10, 3) ➞ 18\n",
    "# 3 + 6 + 9 = 18\n"
   ]
  },
  {
   "cell_type": "code",
   "execution_count": 1,
   "metadata": {},
   "outputs": [
    {
     "name": "stdout",
     "output_type": "stream",
     "text": [
      "(1, 10, 20) ➞ 0\n",
      "(1, 10, 2) ➞ 30\n",
      "(1, 10, 3) ➞ 18\n"
     ]
    }
   ],
   "source": [
    "def func(a,b,c):\n",
    "    lst = []\n",
    "    for x in range(a,b+1):\n",
    "        if x%c == 0:\n",
    "            lst.append(x)\n",
    "    print(f'{a,b,c} ➞ {sum(lst)}')\n",
    "\n",
    "func(1,10,20)\n",
    "func(1,10,2)\n",
    "func(1,10,3)"
   ]
  },
  {
   "attachments": {},
   "cell_type": "markdown",
   "metadata": {},
   "source": [
    "\n",
    "Question2. Create a function that returns True if a given inequality expression is correct and\n",
    "False otherwise.\n",
    "Examples\n",
    "correct_signs(&quot;3 &lt; 7 &lt; 11&quot;) ➞ True\n",
    "correct_signs(&quot;13 &gt; 44 &gt; 33 &gt; 1&quot;) ➞ False\n",
    "correct_signs(&quot;1 &lt; 2 &lt; 6 &lt; 9 &gt; 3&quot;) ➞ True\n"
   ]
  },
  {
   "cell_type": "code",
   "execution_count": 2,
   "metadata": {},
   "outputs": [
    {
     "name": "stdout",
     "output_type": "stream",
     "text": [
      "5 ➞ 5\n",
      "3 ➞ 3\n",
      "6<7<9 ➞ True\n"
     ]
    }
   ],
   "source": [
    "def cHkInequality():\n",
    "    inpNo = input('Inequality: ')\n",
    "    output = eval(inpNo)\n",
    "    print(f'{inpNo} ➞ {output}')\n",
    "\n",
    "for x in range(3):\n",
    "    cHkInequality()"
   ]
  },
  {
   "attachments": {},
   "cell_type": "markdown",
   "metadata": {},
   "source": [
    "\n",
    "Question3. Create a function that replaces all the vowels in a string with a specified character.\n",
    "Examples\n",
    "replace_vowels(&quot;the aardvark&quot;, &quot;#&quot;) ➞ &quot;th# ##rdv#rk&quot;\n",
    "replace_vowels(&quot;minnie mouse&quot;, &quot;?&quot;) ➞ &quot;m?nn?? m??s?&quot;\n",
    "replace_vowels(&quot;shakespeare&quot;, &quot;*&quot;) ➞ &quot;sh*k*sp**r*&quot;\n"
   ]
  },
  {
   "cell_type": "code",
   "execution_count": 3,
   "metadata": {},
   "outputs": [
    {
     "name": "stdout",
     "output_type": "stream",
     "text": [
      "aaddiiue uoiee ➞ uoiuoieeuoieeouoiuoieeuoieeouoiuoieeuoieeoiuoieeuoieeuoieeuoieeuoieeuoieeuoiuoieeuoieeouoiuoieeuoieeouoiuoieeuoieeoiuoieeuoieeuoieeuoieeuoieeuoieedduoiuoieeuoieeouoiuoieeuoieeoiuoieeuoieeuoieeuoieeuoiuoieeuoieeouoiuoieeuoieeoiuoieeuoieeuoieeuoieeuoiuoieeuoieeuoiee\n",
      "ewer ytytrtrt ➞ ytytrtrtwytytrtrtr\n",
      "aeiou ouryewwq ➞ oouryewwqryewwqouryewwqryoouryewwqryewwqouryewwqryewwqwwqoouryewwqryewwqouryewwqryewwqoouryewwqryewwqouryewwqryewwqoouryewwqryewwqouryewwq\n"
     ]
    }
   ],
   "source": [
    "def replcVow():\n",
    "    vowels = ['a','e','i','o','u','A','E','I','O','U']\n",
    "    inpStr = input(\"String: \")\n",
    "    inpStrCopy = inpStr\n",
    "    inChar = input('Replaced Chars: ')\n",
    "    for ele in inpStr:\n",
    "        if ele in vowels:\n",
    "            inpStr = inpStr.replace(ele,inChar)\n",
    "    print(f'{inpStrCopy} {inChar} ➞ {inpStr}')\n",
    "            \n",
    "for x in range(3):\n",
    "    replcVow()"
   ]
  },
  {
   "attachments": {},
   "cell_type": "markdown",
   "metadata": {},
   "source": [
    "\n",
    "Question4. Write a function that calculates the factorial of a number recursively.\n",
    "Examples\n",
    "factorial(5) ➞ 120\n",
    "factorial(3) ➞ 6\n",
    "factorial(1) ➞ 1\n",
    "factorial(0) ➞ 1\n"
   ]
  },
  {
   "cell_type": "code",
   "execution_count": 4,
   "metadata": {},
   "outputs": [
    {
     "name": "stdout",
     "output_type": "stream",
     "text": [
      "fact(5) ➞ 120\n",
      "fact(3) ➞ 6\n",
      "fact(1) ➞ 1\n",
      "fact(0) ➞ 1\n"
     ]
    }
   ],
   "source": [
    "def fact(x):\n",
    "    if x==0:\n",
    "        return 1\n",
    "    return x * fact(x-1)\n",
    "\n",
    "print(f'fact(5) ➞ {fact(5)}')\n",
    "print(f'fact(3) ➞ {fact(3)}')\n",
    "print(f'fact(1) ➞ {fact(1)}')\n",
    "print(f'fact(0) ➞ {fact(0)}')"
   ]
  },
  {
   "attachments": {},
   "cell_type": "markdown",
   "metadata": {},
   "source": [
    "\n",
    "Question 5\n",
    "Hamming distance is the number of characters that differ between two strings.\n",
    "To illustrate:\n",
    "String1: &quot;abcbba&quot;\n",
    "String2: &quot;abcbda&quot;\n",
    "Hamming Distance: 1 - &quot;b&quot; vs. &quot;d&quot; is the only difference.\n",
    "Create a function that computes the hamming distance between two strings.\n",
    "Examples\n",
    "hamming_distance(&quot;abcde&quot;, &quot;bcdef&quot;) ➞ 5\n",
    "hamming_distance(&quot;abcde&quot;, &quot;abcde&quot;) ➞ 0\n",
    "hamming_distance(&quot;strong&quot;, &quot;strung&quot;) ➞ 1"
   ]
  },
  {
   "cell_type": "code",
   "execution_count": 6,
   "metadata": {},
   "outputs": [
    {
     "name": "stdout",
     "output_type": "stream",
     "text": [
      "Hamning Distance b/w abcde and bcdef ➞ 5\n",
      "Hamning Distance b/w abcde and abcde ➞ 0\n",
      "Hamning Distance b/w strong and strung ➞ 1\n"
     ]
    }
   ],
   "source": [
    "def hamDist():\n",
    "    inpStr1 = input('Str1: ')\n",
    "    inpStr2 = input('Str2: ')\n",
    "    if len(inpStr1) == len(inpStr2):\n",
    "        count = 0\n",
    "        for i in range(len(inpStr1)):\n",
    "            if inpStr1[i] != inpStr2[i]:\n",
    "                count = count+1\n",
    "        print(f'Hamning Distance b/w {inpStr1} and {inpStr2} ➞ {count}')\n",
    "    else:\n",
    "        print('Both Strings Must be of Same Length')\n",
    "\n",
    "for x in range(3):\n",
    "    hamDist()"
   ]
  }
 ],
 "metadata": {
  "kernelspec": {
   "display_name": "Python 3",
   "language": "python",
   "name": "python3"
  },
  "language_info": {
   "codemirror_mode": {
    "name": "ipython",
    "version": 3
   },
   "file_extension": ".py",
   "mimetype": "text/x-python",
   "name": "python",
   "nbconvert_exporter": "python",
   "pygments_lexer": "ipython3",
   "version": "3.10.6"
  },
  "orig_nbformat": 4
 },
 "nbformat": 4,
 "nbformat_minor": 2
}
