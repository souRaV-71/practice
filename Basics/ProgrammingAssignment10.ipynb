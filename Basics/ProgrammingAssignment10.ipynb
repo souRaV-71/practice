{
 "cells": [
  {
   "attachments": {},
   "cell_type": "markdown",
   "metadata": {},
   "source": [
    "1. Write a Python program to find sum of elements in list?"
   ]
  },
  {
   "cell_type": "code",
   "execution_count": 1,
   "metadata": {},
   "outputs": [
    {
     "name": "stdout",
     "output_type": "stream",
     "text": [
      "Sum of Elements: 27\n"
     ]
    }
   ],
   "source": [
    "def listSum():\n",
    "    inpEle = int(input('Enter the No of Entries in a List: '))\n",
    "    inpList = []\n",
    "    for itr in range(inpEle):\n",
    "        inpList.append(int(input('Enter a element: ')))\n",
    "    print(f'Sum of Elements: {sum(inpList)}')\n",
    "\n",
    "listSum()"
   ]
  },
  {
   "attachments": {},
   "cell_type": "markdown",
   "metadata": {},
   "source": [
    "\n",
    "2. Write a Python program to Multiply all numbers in the list?"
   ]
  },
  {
   "cell_type": "code",
   "execution_count": 2,
   "metadata": {},
   "outputs": [
    {
     "name": "stdout",
     "output_type": "stream",
     "text": [
      "1524096\n"
     ]
    }
   ],
   "source": [
    "def mulList():\n",
    "    inpEle = int(input('Enter the No of Entries in a List: '))\n",
    "    inpList = []\n",
    "    mul = 1\n",
    "    for itr in range(inpEle):\n",
    "        inpList.append(int(input('Enter a element: ')))\n",
    "    for ele in inpList:\n",
    "        mul = mul * ele\n",
    "    print(mul)\n",
    "\n",
    "mulList()"
   ]
  },
  {
   "attachments": {},
   "cell_type": "markdown",
   "metadata": {},
   "source": [
    "\n",
    "3. Write a Python program to find smallest number in a list?"
   ]
  },
  {
   "cell_type": "code",
   "execution_count": 4,
   "metadata": {},
   "outputs": [
    {
     "name": "stdout",
     "output_type": "stream",
     "text": [
      "The Smallest Element in [4, 3, 5, 7, 2] is 2\n"
     ]
    }
   ],
   "source": [
    "def smallestEle():\n",
    "    inpEle = int(input('Enter the No of elements in a list: '))\n",
    "    inpList = []\n",
    "    for ele in range(inpEle):\n",
    "        inpList.append(int(input('Enter a Element: ')))\n",
    "    print(f'The Smallest Element in {inpList} is {sorted(inpList)[0]}')\n",
    "smallestEle()"
   ]
  },
  {
   "attachments": {},
   "cell_type": "markdown",
   "metadata": {},
   "source": [
    "\n",
    "4. Write a Python program to find largest number in a list?"
   ]
  },
  {
   "cell_type": "code",
   "execution_count": 5,
   "metadata": {},
   "outputs": [
    {
     "name": "stdout",
     "output_type": "stream",
     "text": [
      "The Largest Element in [3, 4, 1, 6, 7] is 7\n"
     ]
    }
   ],
   "source": [
    "def largestEle():\n",
    "    inpEle = int(input('Enter the No of elements in a list: '))\n",
    "    inpList = []\n",
    "    for ele in range(inpEle):\n",
    "        inpList.append(int(input('Enter a Element: ')))\n",
    "    print(f'The Largest Element in {inpList} is {sorted(inpList, reverse=True)[0]}')\n",
    "\n",
    "largestEle()"
   ]
  },
  {
   "attachments": {},
   "cell_type": "markdown",
   "metadata": {},
   "source": [
    "\n",
    "5. Write a Python program to find second largest number in a list?"
   ]
  },
  {
   "cell_type": "code",
   "execution_count": 6,
   "metadata": {},
   "outputs": [
    {
     "name": "stdout",
     "output_type": "stream",
     "text": [
      "The Second Largest Element in [3, 2, 1, 5, 6] is 5\n"
     ]
    }
   ],
   "source": [
    "def secondLargestEle():\n",
    "    inpEle = int(input('Enter the No of elements in a list: '))\n",
    "    inpList = []\n",
    "    for ele in range(inpEle):\n",
    "        inpList.append(int(input('Enter a Element: ')))\n",
    "    print(f'The Second Largest Element in {inpList} is {sorted(inpList, reverse=True)[1]}')\n",
    "\n",
    "secondLargestEle()"
   ]
  },
  {
   "attachments": {},
   "cell_type": "markdown",
   "metadata": {},
   "source": [
    "\n",
    "6. Write a Python program to find N largest elements from a list?"
   ]
  },
  {
   "cell_type": "code",
   "execution_count": 8,
   "metadata": {},
   "outputs": [
    {
     "name": "stdout",
     "output_type": "stream",
     "text": [
      "The 3 Largest Element in [3, 4, 6, 7, 8] is [8, 7, 6]\n"
     ]
    }
   ],
   "source": [
    "def nLargestEle(k):\n",
    "    inpEle = int(input('Enter the No of elements in a list: '))\n",
    "    inpList = []\n",
    "    for ele in range(inpEle):\n",
    "        inpList.append(int(input('Enter a Element: ')))\n",
    "    print(f'The {k} Largest Element in {inpList} is {sorted(inpList, reverse=True)[0:k]}')\n",
    "\n",
    "nLargestEle(3)"
   ]
  },
  {
   "attachments": {},
   "cell_type": "markdown",
   "metadata": {},
   "source": [
    "\n",
    "7. Write a Python program to print even numbers in a list?"
   ]
  },
  {
   "cell_type": "code",
   "execution_count": 9,
   "metadata": {},
   "outputs": [
    {
     "name": "stdout",
     "output_type": "stream",
     "text": [
      "The Even Elements in [4, 7, 8, 9, 3] are [4, 8]\n"
     ]
    }
   ],
   "source": [
    "def evenNo():\n",
    "    inpEle = int(input('Enter the No of elements in a list: '))\n",
    "    inList = []\n",
    "    evenList = []\n",
    "    for ele in range(inpEle):\n",
    "        inList.append(int(input('Enter a Element: ')))\n",
    "    for ele in inList:\n",
    "        if ele%2 == 0:\n",
    "            evenList.append(ele)\n",
    "    print(f'The Even Elements in {inList} are {evenList}')\n",
    "\n",
    "evenNo()"
   ]
  },
  {
   "attachments": {},
   "cell_type": "markdown",
   "metadata": {},
   "source": [
    "\n",
    "8. Write a Python program to print odd numbers in a List?"
   ]
  },
  {
   "cell_type": "code",
   "execution_count": 10,
   "metadata": {},
   "outputs": [
    {
     "name": "stdout",
     "output_type": "stream",
     "text": [
      "The Even Elements in [4, 3, 2, 1, 6] are [3, 1]\n"
     ]
    }
   ],
   "source": [
    "def oddNo():\n",
    "    inele = int(input('Enter the No of elements in a list: '))\n",
    "    inlist = []\n",
    "    oddlist = []\n",
    "    for ele in range(inele):\n",
    "        inlist.append(int(input('Enter a Element: ')))\n",
    "    for ele in inlist:\n",
    "        if ele%2 != 0:\n",
    "            oddlist.append(ele)\n",
    "    print(f'The Even Elements in {inlist} are {oddlist}')\n",
    "\n",
    "oddNo()"
   ]
  },
  {
   "attachments": {},
   "cell_type": "markdown",
   "metadata": {},
   "source": [
    "\n",
    "9. Write a Python program to Remove empty List from List?"
   ]
  },
  {
   "cell_type": "code",
   "execution_count": 14,
   "metadata": {},
   "outputs": [
    {
     "name": "stdout",
     "output_type": "stream",
     "text": [
      "There is an Empty list in [1, 2, 3, 4, 5, [], 6, 7, 8, 9, 0] at Position 5\n",
      "The List after removing [] is [1, 2, 3, 4, 5, 6, 7, 8, 9, 0]\n"
     ]
    }
   ],
   "source": [
    "def cHkEmptyList():\n",
    "    inlist = eval(input('Enter all elements of the list: '))\n",
    "    if [] in inlist:\n",
    "        print(f'There is an Empty list in {inlist} at Position {inlist.index([])}')\n",
    "        inlist.remove([])\n",
    "        print(f'The List after removing [] is {inlist}')\n",
    "    else:\n",
    "        print(f'There is no [] List in the list {inlist}')\n",
    "        \n",
    "cHkEmptyList()"
   ]
  },
  {
   "attachments": {},
   "cell_type": "markdown",
   "metadata": {},
   "source": [
    "\n",
    "10. Write a Python program to Cloning or Copying a list?"
   ]
  },
  {
   "cell_type": "code",
   "execution_count": 16,
   "metadata": {},
   "outputs": [
    {
     "name": "stdout",
     "output_type": "stream",
     "text": [
      "[1, 2, 3, 4, 5, 6, 7, 8, 9, 0] 139928492862720\n",
      "[1, 2, 3, 4, 5, 6, 7, 8, 9, 0] 139928236926528\n"
     ]
    }
   ],
   "source": [
    "import copy\n",
    "\n",
    "def cloneList():\n",
    "    inlist = eval(input('Enter a list'))\n",
    "    print(inlist, id(inlist))\n",
    "    clonedlist = inlist.copy()\n",
    "    print(clonedlist, id(clonedlist))\n",
    "\n",
    "cloneList()"
   ]
  },
  {
   "attachments": {},
   "cell_type": "markdown",
   "metadata": {},
   "source": [
    "\n",
    "11. Write a Python program to Count occurrences of an element in a list?"
   ]
  },
  {
   "cell_type": "code",
   "execution_count": 18,
   "metadata": {},
   "outputs": [
    {
     "name": "stdout",
     "output_type": "stream",
     "text": [
      "There are 2 occurences of 4 in [1, 2, 3, 1, 2, 3, 1, 2, 3, 4, 5, 6, 4, 5, 6]\n"
     ]
    }
   ],
   "source": [
    "def countOcc():\n",
    "    inlist = eval(input('Enter the elements of the list: '))\n",
    "    innum = eval(input('Enter the element to find: '))\n",
    "    count = 0\n",
    "    if innum in inlist:\n",
    "        for ele in inlist:\n",
    "            if ele == innum:\n",
    "                count = count+1\n",
    "    print(f'There are {count} occurences of {innum} in {inlist}')\n",
    "    \n",
    "countOcc()"
   ]
  }
 ],
 "metadata": {
  "kernelspec": {
   "display_name": "Python 3",
   "language": "python",
   "name": "python3"
  },
  "language_info": {
   "codemirror_mode": {
    "name": "ipython",
    "version": 3
   },
   "file_extension": ".py",
   "mimetype": "text/x-python",
   "name": "python",
   "nbconvert_exporter": "python",
   "pygments_lexer": "ipython3",
   "version": "3.10.6"
  },
  "orig_nbformat": 4
 },
 "nbformat": 4,
 "nbformat_minor": 2
}
