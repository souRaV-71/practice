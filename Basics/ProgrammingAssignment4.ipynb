{
 "cells": [
  {
   "attachments": {},
   "cell_type": "markdown",
   "metadata": {},
   "source": [
    "1. Write a Python Program to Find the Factorial of a Number?"
   ]
  },
  {
   "cell_type": "code",
   "execution_count": 1,
   "metadata": {},
   "outputs": [
    {
     "name": "stdout",
     "output_type": "stream",
     "text": [
      "The fact of 5 is 120\n"
     ]
    }
   ],
   "source": [
    "def fact(no):\n",
    "    if (no < 1):\n",
    "        return 1\n",
    "    else:\n",
    "        return no*fact(no-1)\n",
    "no = int(input('Enter: '))\n",
    "val = fact(no)\n",
    "print(f'The fact of {no} is {val}')"
   ]
  },
  {
   "attachments": {},
   "cell_type": "markdown",
   "metadata": {},
   "source": [
    "\n",
    "2. Write a Python Program to Display the multiplication Table?"
   ]
  },
  {
   "cell_type": "code",
   "execution_count": 2,
   "metadata": {},
   "outputs": [
    {
     "name": "stdout",
     "output_type": "stream",
     "text": [
      "11 X 1 = 11\n",
      "11 X 2 = 22\n",
      "11 X 3 = 33\n",
      "11 X 4 = 44\n",
      "11 X 5 = 55\n",
      "11 X 6 = 66\n",
      "11 X 7 = 77\n",
      "11 X 8 = 88\n",
      "11 X 9 = 99\n",
      "11 X 10 = 110\n",
      "11 X 11 = 121\n",
      "11 X 12 = 132\n"
     ]
    }
   ],
   "source": [
    "def genTable(b,e):\n",
    "    for x in range(1,e+1):\n",
    "        print(f'{b} X {x} = {b*x}')\n",
    "\n",
    "num = int(input('Enter a number: '))\n",
    "values = int(input('Enter no of e: '))\n",
    "genTable(num,values)"
   ]
  },
  {
   "attachments": {},
   "cell_type": "markdown",
   "metadata": {},
   "source": [
    "\n",
    "3. Write a Python Program to Print the Fibonacci sequence?"
   ]
  },
  {
   "cell_type": "code",
   "execution_count": 3,
   "metadata": {},
   "outputs": [
    {
     "name": "stdout",
     "output_type": "stream",
     "text": [
      "The First 13 fibonacci series are:  [0, 1, 1, 2, 3, 5, 8, 13, 21, 34, 55, 89, 144]\n"
     ]
    }
   ],
   "source": [
    "no3 = int(input('Enter the no of sequences:'))\n",
    "initial = [0,1]\n",
    "if no3 < 0:\n",
    "    print('Negative No')\n",
    "elif no3 <= 2 and no3 >= 0:\n",
    "    print(initial)\n",
    "else:\n",
    "    for i in range(no3):\n",
    "        if i >= 2:\n",
    "            initial.append(initial[i-1]+initial[i-2])\n",
    "    print(f'The First {no3} fibonacci series are: ',initial)"
   ]
  },
  {
   "attachments": {},
   "cell_type": "markdown",
   "metadata": {},
   "source": [
    "\n",
    "4. Write a Python Program to Check Armstrong Number?"
   ]
  },
  {
   "cell_type": "code",
   "execution_count": 4,
   "metadata": {},
   "outputs": [
    {
     "name": "stdout",
     "output_type": "stream",
     "text": [
      "121 is a Not Armstrong NO\n",
      "134 is a Not Armstrong NO\n"
     ]
    }
   ],
   "source": [
    "def cHkANo():\n",
    "    no4 = input('Enter a NO: ')\n",
    "    sum = 0\n",
    "    for char in range(len(no4)):\n",
    "        sum = sum + pow(int(no4[char]),3)\n",
    "    if sum == int(no4):\n",
    "        print(f'{no4} is a Armstrong NO')\n",
    "    else:\n",
    "        print(f'{no4} is a Not Armstrong NO')\n",
    "\n",
    "for x in range(2):\n",
    "    cHkANo()"
   ]
  },
  {
   "attachments": {},
   "cell_type": "markdown",
   "metadata": {},
   "source": [
    "\n",
    "5. Write a Python Program to Find Armstrong Number in an Interval?"
   ]
  },
  {
   "cell_type": "code",
   "execution_count": 5,
   "metadata": {},
   "outputs": [
    {
     "name": "stdout",
     "output_type": "stream",
     "text": [
      "The Armstrong numbers between 1 and 10000 are [1, 153, 370, 371, 407]\n"
     ]
    }
   ],
   "source": [
    "def cHkANoInt(no5, var):\n",
    "    sum = 0\n",
    "    for char in range(len(no5)):\n",
    "        sum = sum + pow(int(no5[char]),3)\n",
    "    if sum == int(no5):\n",
    "        var.append(int(no5))\n",
    "\n",
    "start = int(input('Enter the Start of the Interval: '))\n",
    "end = int(input('Enter the End of the Interval: '))\n",
    "listANo = []\n",
    "\n",
    "if start > end:\n",
    "    print(\"Start Interval Cannot be Greater than End Interval\")\n",
    "else:\n",
    "    for number in range(start,end+1):\n",
    "        cHkANoInt(str(number),listANo)\n",
    "    print(f'The Armstrong numbers between {start} and {end} are {listANo}')"
   ]
  },
  {
   "attachments": {},
   "cell_type": "markdown",
   "metadata": {},
   "source": [
    "\n",
    "6. Write a Python Program to Find the Sum of Natural Numbers?"
   ]
  },
  {
   "cell_type": "code",
   "execution_count": 6,
   "metadata": {},
   "outputs": [
    {
     "name": "stdout",
     "output_type": "stream",
     "text": [
      "Sum of 10 natural nos is 55.0\n"
     ]
    }
   ],
   "source": [
    "def smNatNos(no6):\n",
    "    sum = no6*((no6+1)/2)\n",
    "    print(f'Sum of {no6} natural nos is {sum}')\n",
    "    \n",
    "no6 = int(input('Enter a nos: '))\n",
    "smNatNos(no6)"
   ]
  }
 ],
 "metadata": {
  "kernelspec": {
   "display_name": "Python 3",
   "language": "python",
   "name": "python3"
  },
  "language_info": {
   "codemirror_mode": {
    "name": "ipython",
    "version": 3
   },
   "file_extension": ".py",
   "mimetype": "text/x-python",
   "name": "python",
   "nbconvert_exporter": "python",
   "pygments_lexer": "ipython3",
   "version": "3.10.6"
  },
  "orig_nbformat": 4
 },
 "nbformat": 4,
 "nbformat_minor": 2
}
