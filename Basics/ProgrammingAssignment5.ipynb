{
 "cells": [
  {
   "attachments": {},
   "cell_type": "markdown",
   "metadata": {},
   "source": [
    "1. Write a Python Program to Find LCM?"
   ]
  },
  {
   "cell_type": "code",
   "execution_count": 2,
   "metadata": {},
   "outputs": [
    {
     "name": "stdout",
     "output_type": "stream",
     "text": [
      "The LCM of 5,6 is 30\n"
     ]
    }
   ],
   "source": [
    "def findTheLcm(X,Y):\n",
    "    if X > Y:\n",
    "        greater = X\n",
    "    else:\n",
    "        greater = X\n",
    "    while True:\n",
    "        if((greater%X == 0) and (greater%Y == 0)):\n",
    "            lcm = greater\n",
    "            break\n",
    "        else:\n",
    "            greater +=1\n",
    "    print(f'The LCM of {X},{Y} is {lcm}')\n",
    "\n",
    "# findTheLcm(3,6)\n",
    "# findTheLcm(5,2)\n",
    "# findTheLcm(5,100)\n",
    "\n",
    "X = int(input('Enter a number: '))\n",
    "Y = int(input('Enter a number: '))\n",
    "\n",
    "findTheLcm(X,Y)"
   ]
  },
  {
   "attachments": {},
   "cell_type": "markdown",
   "metadata": {},
   "source": [
    "\n",
    "2. Write a Python Program to Find HCF?"
   ]
  },
  {
   "cell_type": "code",
   "execution_count": 5,
   "metadata": {},
   "outputs": [
    {
     "name": "stdout",
     "output_type": "stream",
     "text": [
      "The HCF of 4,5 is 1\n"
     ]
    }
   ],
   "source": [
    "def findTheHcf(X,Y):\n",
    "    if X>Y:\n",
    "        smaller = Y\n",
    "    else:\n",
    "        smaller = X\n",
    "    for ele in range(1,smaller+1):\n",
    "        if((X%ele == 0) and (Y%ele == 0)):\n",
    "            hcf = ele\n",
    "    print(f'The HCF of {X},{Y} is {hcf}')\n",
    "\n",
    "# findTheHcf(6,12)\n",
    "# findTheHcf(2,3)\n",
    "# findTheHcf(10,23)\n",
    "\n",
    "X = int(input('Enter a number: '))\n",
    "Y = int(input('Enter a number: '))\n",
    "\n",
    "findTheHcf(X,Y)"
   ]
  },
  {
   "attachments": {},
   "cell_type": "markdown",
   "metadata": {},
   "source": [
    "\n",
    "3. Write a Python Program to Convert Decimal to Binary, Octal and Hexadecimal?"
   ]
  },
  {
   "cell_type": "code",
   "execution_count": 6,
   "metadata": {},
   "outputs": [
    {
     "name": "stdout",
     "output_type": "stream",
     "text": [
      "Binary no : 0b10100\n",
      "Octal no : 0o24\n",
      "Hexadecimal no : 0x14\n"
     ]
    }
   ],
   "source": [
    "def deciTootherNoSys():\n",
    "    no = int(input('Enter a no: '))\n",
    "    print(f'Binary no : {bin(no)}')\n",
    "    print(f'Octal no : {oct(no)}')    \n",
    "    print(f'Hexadecimal no : {hex(no)}')    \n",
    "\n",
    "deciTootherNoSys()"
   ]
  },
  {
   "attachments": {},
   "cell_type": "markdown",
   "metadata": {},
   "source": [
    "\n",
    "4. Write a Python Program To Find ASCII value of a character?"
   ]
  },
  {
   "cell_type": "code",
   "execution_count": 7,
   "metadata": {},
   "outputs": [
    {
     "name": "stdout",
     "output_type": "stream",
     "text": [
      "Single Character\n"
     ]
    }
   ],
   "source": [
    "def chToA():\n",
    "    char = input('Char: ')\n",
    "    if len(char) > 1:\n",
    "        print('Single Char')\n",
    "    else:\n",
    "        print(f'Ascii Char of {char} is {ord(char)}')\n",
    "\n",
    "chToA()"
   ]
  },
  {
   "attachments": {},
   "cell_type": "markdown",
   "metadata": {},
   "source": [
    "\n",
    "5. Write a Python Program to Make a Simple Calculator with 4 basic mathematical operations?"
   ]
  },
  {
   "cell_type": "code",
   "execution_count": 8,
   "metadata": {},
   "outputs": [
    {
     "name": "stdout",
     "output_type": "stream",
     "text": [
      "Select a Arithmetic Operation:         \n",
      "1.Addition(+)        \n",
      "2.Division(-)        \n",
      "2.Multiplication(*)        \n",
      "4.Division(/)        \n",
      "3.Stop(0)\n",
      "\n",
      "4+5=9\n",
      "\n",
      "757586-433543534=-432785948\n",
      "\n",
      "575675*89879789=51741547532575\n",
      "\n",
      "443/5656=0.07832390381895332\n",
      "\n",
      "Program Stopped successfully\n"
     ]
    }
   ],
   "source": [
    "import operator as op\n",
    "\n",
    "ops = { \"+\": op.add,\n",
    "        \"-\": op.sub,\n",
    "        \"*\":op.mul,\n",
    "        \"/\":op.truediv } \n",
    "\n",
    "print('Select a Arithmetic Operation: \\\n",
    "        \\n1.Addition(+)\\\n",
    "        \\n2.Division(-)\\\n",
    "        \\n2.Multiplication(*)\\\n",
    "        \\n4.Division(/)\\\n",
    "        \\n3.Stop(0)\\n')\n",
    "   \n",
    "\n",
    "while True:\n",
    "    op = input('Enter a arithmetic operation :')\n",
    "    if op == '0':\n",
    "        print(\"Program Stopped successfully\")\n",
    "        break\n",
    "    elif op not in ['+','-','*','/']:\n",
    "        print(\"Enter a valid op\")\n",
    "    else:\n",
    "        no1 = int(input('\\n1st No: '))\n",
    "        no2 = int(input(' 2nd No: '))\n",
    "        print(f'{no1}{op}{no2}={ops[op](no1,no2)}\\n')"
   ]
  }
 ],
 "metadata": {
  "kernelspec": {
   "display_name": "Python 3",
   "language": "python",
   "name": "python3"
  },
  "language_info": {
   "codemirror_mode": {
    "name": "ipython",
    "version": 3
   },
   "file_extension": ".py",
   "mimetype": "text/x-python",
   "name": "python",
   "nbconvert_exporter": "python",
   "pygments_lexer": "ipython3",
   "version": "3.10.6"
  },
  "orig_nbformat": 4
 },
 "nbformat": 4,
 "nbformat_minor": 2
}
