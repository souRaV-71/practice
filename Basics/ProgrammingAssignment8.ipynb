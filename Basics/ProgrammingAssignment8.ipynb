{
 "cells": [
  {
   "attachments": {},
   "cell_type": "markdown",
   "metadata": {},
   "source": [
    "1. Write a Python Program to Add Two Matrices?"
   ]
  },
  {
   "cell_type": "code",
   "execution_count": 2,
   "metadata": {},
   "outputs": [
    {
     "name": "stdout",
     "output_type": "stream",
     "text": [
      "Inputs: [[5, 6, 3], [7, 5, 1], [7, 8, 9]],[[5, 5, 4], [6, 2, 3], [0, 1, 1]]\n",
      "Output: [[10, 11, 7], [13, 7, 4], [7, 9, 10]]\n",
      "Inputs: [[2, 3, 5], [1, 0, 0], [0, 2, 2]],[[7, 3, 4], [6, 5, 4], [2, 0, 1]]\n",
      "Output: [[9, 6, 9], [7, 5, 4], [2, 2, 3]]\n"
     ]
    }
   ],
   "source": [
    "def addMatrices(a,b):\n",
    "    print(f'Inputs: {a},{b}')\n",
    "    if len(a) == len(b):\n",
    "        out_matrix = []\n",
    "        for ele in range(len(a)):\n",
    "            if len(a[ele]) == len(b[ele]):\n",
    "                out_matrix.append([])\n",
    "                for sub_ele in range(len(a[ele])):\n",
    "                    out_matrix[ele].append(a[ele][sub_ele]+b[ele][sub_ele])\n",
    "            else:\n",
    "                print('Both Matrices must contains same no of rows and columns') \n",
    "    else:\n",
    "        print('Both Matrices must contains same no of rows and columns')\n",
    "    print(f'Output: {out_matrix}')\n",
    "\n",
    "addMatrices([[5,6,3],[7,5,1],[7,8,9]],[[5,5,4],[6,2,3],[0,1,1]])\n",
    "addMatrices([[2,3,5],[1,0,0],[0,2,2]],[[7,3,4],[6,5,4],[2,0,1]])"
   ]
  },
  {
   "attachments": {},
   "cell_type": "markdown",
   "metadata": {},
   "source": [
    "\n",
    "2. Write a Python Program to Multiply Two Matrices?"
   ]
  },
  {
   "cell_type": "code",
   "execution_count": 3,
   "metadata": {},
   "outputs": [
    {
     "name": "stdout",
     "output_type": "stream",
     "text": [
      "[[14, 32, 50], [32, 77, 122], [50, 122, 194]]\n"
     ]
    }
   ],
   "source": [
    "a = [[1,2,3],[4,5,6],[7,8,9]]\n",
    "b = [[1,4,7],[2,5,8],[3,6,9]]\n",
    "\n",
    "def mulMat(a,b):\n",
    "    otpt = []\n",
    "    if len(a[0]) == len(b):\n",
    "        for ele in range(len(a[0])):\n",
    "            otpt.append([0 for ele in range(len(b[0]))])\n",
    "        for i in range(len(a)):\n",
    "            for j in range(len(b[0])):\n",
    "                for k in range(len(b)):\n",
    "                    otpt[i][j] += a[i][k]*b[k][j]\n",
    "        print(otpt)     \n",
    "    else:\n",
    "        print('Not Possible')\n",
    "        \n",
    "mulMat(a,b)"
   ]
  },
  {
   "attachments": {},
   "cell_type": "markdown",
   "metadata": {},
   "source": [
    "\n",
    "3. Write a Python Program to Transpose a Matrix?"
   ]
  },
  {
   "cell_type": "code",
   "execution_count": 4,
   "metadata": {},
   "outputs": [
    {
     "name": "stdout",
     "output_type": "stream",
     "text": [
      "[[1, 2, 3], [4, 5, 6], [7, 8, 9]] -> [[1, 4, 7], [2, 5, 8], [3, 6, 9]]\n",
      "[[1, 2], [4, 5], [7, 8]] -> [[1, 4, 7], [2, 5, 8]]\n",
      "[[1, 2, 3], [4, 5, 6]] -> [[1, 4], [2, 5], [3, 6]]\n"
     ]
    }
   ],
   "source": [
    "a = [[1,2,3],[4,5,6],[7,8,9]]\n",
    "b = [[1,2],[4,5],[7,8]]\n",
    "c = [[1,2,3],[4,5,6]]\n",
    "\n",
    "def transpose(inpMat):\n",
    "    outMat = []\n",
    "    for ele in range(len(inpMat[0])):\n",
    "        outMat.append([0 for i in range(len(inpMat))])\n",
    "    for i in range(len(inpMat)):\n",
    "        for j in range(len(inpMat[i])):\n",
    "            outMat[j][i] = inpMat[i][j]\n",
    "    print(f'{inpMat} -> {outMat}')\n",
    "        \n",
    "transpose(a)\n",
    "transpose(b)\n",
    "transpose(c)"
   ]
  },
  {
   "attachments": {},
   "cell_type": "markdown",
   "metadata": {},
   "source": [
    "\n",
    "4. Write a Python Program to Sort Words in Alphabetic Order?"
   ]
  },
  {
   "cell_type": "code",
   "execution_count": 7,
   "metadata": {},
   "outputs": [
    {
     "name": "stdout",
     "output_type": "stream",
     "text": [
      "Slkjsdfoinsdkalkalare\n"
     ]
    }
   ],
   "source": [
    "def sortStr():\n",
    "    inpStr = input(\"Enter a String: \").title()\n",
    "   #  print(f'inpStr')\n",
    "    sortedStr = sorted(inpStr.split(' '))\n",
    "    print(' '.join(sortedStr))\n",
    "\n",
    "sortStr()"
   ]
  },
  {
   "attachments": {},
   "cell_type": "markdown",
   "metadata": {},
   "source": [
    "\n",
    "5. Write a Python Program to Remove Punctuation From a String?"
   ]
  },
  {
   "cell_type": "code",
   "execution_count": 8,
   "metadata": {},
   "outputs": [
    {
     "name": "stdout",
     "output_type": "stream",
     "text": [
      "jflkasjkldfhbweesas\n"
     ]
    }
   ],
   "source": [
    "def rmPunctuations():\n",
    "    punctuations = '''!()-[]{};:'\"\\,<>./?@#$%^&*_~'''\n",
    "    inpStr = input('Enter a String: ')\n",
    "    outStr = ''\n",
    "    for ele in inpStr:\n",
    "        if ele not in punctuations:\n",
    "            outStr += ele\n",
    "    print(outStr)\n",
    "    \n",
    "rmPunctuations()"
   ]
  }
 ],
 "metadata": {
  "kernelspec": {
   "display_name": "Python 3",
   "language": "python",
   "name": "python3"
  },
  "language_info": {
   "codemirror_mode": {
    "name": "ipython",
    "version": 3
   },
   "file_extension": ".py",
   "mimetype": "text/x-python",
   "name": "python",
   "nbconvert_exporter": "python",
   "pygments_lexer": "ipython3",
   "version": "3.10.6"
  },
  "orig_nbformat": 4
 },
 "nbformat": 4,
 "nbformat_minor": 2
}
