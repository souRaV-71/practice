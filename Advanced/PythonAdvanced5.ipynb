{
 "cells": [
  {
   "cell_type": "markdown",
   "metadata": {},
   "source": [
    "Q1. What is the meaning of multiple inheritance?"
   ]
  },
  {
   "attachments": {},
   "cell_type": "markdown",
   "metadata": {},
   "source": [
    " Inheritence is reusing the code of Parent class by the child class.\n",
    " <br>\n",
    " When a child class inherits its properties from multiple Parent classes this scenario is called Multiple Inheritence."
   ]
  },
  {
   "cell_type": "code",
   "execution_count": 2,
   "metadata": {},
   "outputs": [],
   "source": [
    "class one:\n",
    "    pass\n",
    "class two:\n",
    "    pass\n",
    "class child(one,two):\n",
    "    pass"
   ]
  },
  {
   "attachments": {},
   "cell_type": "markdown",
   "metadata": {},
   "source": [
    "Q2. What is the concept of delegation?"
   ]
  },
  {
   "attachments": {},
   "cell_type": "markdown",
   "metadata": {},
   "source": [
    "Delegation provides a proxy object for any class thay you want on top of the main class. Its like a wrapper to your class so that you can access limited resources of the main class.It Wraps the object of main class into a smaller object with limited access.\n",
    "<br>\n",
    "In short it include a instance of another class as an instance variable, and forward messages to the instance."
   ]
  },
  {
   "cell_type": "code",
   "execution_count": 3,
   "metadata": {},
   "outputs": [
    {
     "name": "stdout",
     "output_type": "stream",
     "text": [
      "method 1\n",
      "method 1\n",
      "method 1\n",
      "main_cls\n"
     ]
    }
   ],
   "source": [
    "class D:\n",
    "    def m1(self):\n",
    "        print('method 1')\n",
    "    def m2(self):\n",
    "        print('main_cls')\n",
    "class E:\n",
    "    def __init__(self,obj):\n",
    "        self.main = obj\n",
    "    def m3(self):\n",
    "        self.main.m1()\n",
    "\n",
    "m = D()        \n",
    "n = E(m)\n",
    "m.m1()\n",
    "n.main.m1()\n",
    "n.m3()\n",
    "n.main.m2()"
   ]
  },
  {
   "attachments": {},
   "cell_type": "markdown",
   "metadata": {},
   "source": [
    "Q3. What is the concept of composition?"
   ]
  },
  {
   "attachments": {},
   "cell_type": "markdown",
   "metadata": {},
   "source": [
    "A class refers to one or more other classes by using instances of those classes as a instance variable. Irrespective of inheritence in this approach all the parent class members are not inherited into child class, but only required methods from a class are used by using class instances."
   ]
  },
  {
   "cell_type": "code",
   "execution_count": 4,
   "metadata": {},
   "outputs": [
    {
     "name": "stdout",
     "output_type": "stream",
     "text": [
      "Total 20400\n"
     ]
    }
   ],
   "source": [
    "class F:\n",
    "    def __init__(self,p):\n",
    "        self.p = p\n",
    "    def total(self):\n",
    "        return self.p*12\n",
    "    \n",
    "class G:\n",
    "    def __init__(self,p,b):\n",
    "        self.p = p\n",
    "        self.b = b\n",
    "        self.obj_F = F(self.p)\n",
    "    def total1(self):\n",
    "        return f'Total {str(self.obj_F.total())}'\n",
    "\n",
    "o = G(1700,1800)\n",
    "print(o.total1())"
   ]
  },
  {
   "attachments": {},
   "cell_type": "markdown",
   "metadata": {},
   "source": [
    "Q4. What are bound methods and how do we use them?"
   ]
  },
  {
   "attachments": {},
   "cell_type": "markdown",
   "metadata": {},
   "source": [
    "If a function is an attribute of class and it is accessed via the instances, they are called bound methods. A bound method is one that has self as its first argument. Since these are dependent on the instance of classes, these are also known as instance methods."
   ]
  },
  {
   "cell_type": "code",
   "execution_count": 5,
   "metadata": {},
   "outputs": [
    {
     "name": "stdout",
     "output_type": "stream",
     "text": [
      "Called method_one\n",
      "Called method_two\n",
      "Called method_two\n",
      "Called method_three\n"
     ]
    }
   ],
   "source": [
    "class H:\n",
    "    def one(self):       # bound method\n",
    "        print(\"Called one\")\n",
    "    @classmethod\n",
    "    def two(cls):        # unbound method\n",
    "        print(\"Called two\")\n",
    "    @staticmethod\n",
    "    def three():         # static method\n",
    "        print(\"Called three\")\n",
    "\n",
    "h = H()\n",
    "h.one()       # accessing through instance object\n",
    "h.two()       # accessing through instance object\n",
    "H.two()       # accessing directly through class\n",
    "H.three()     # accessing directly through class"
   ]
  },
  {
   "attachments": {},
   "cell_type": "markdown",
   "metadata": {},
   "source": [
    "Q5. What is the purpose of pseudoprivate attributes?"
   ]
  },
  {
   "attachments": {},
   "cell_type": "markdown",
   "metadata": {},
   "source": [
    "Pseudoprivate attributes are used in larger frameworks,to avoid introducing new method names that might accidentally hide definitions elsewhere in the class tree and to reduce the chance of internal methods being replaced by names defined lower in the tree. If a method is intended for use only within a class that may be mixed into other classes, the double underscore prefix ensures that the method won't interfere with other names in the tree, especially in multiple-inheritance scenarios . Pseudoprivate names also prevent subclasses from accidentally redefining the internal method's names"
   ]
  },
  {
   "cell_type": "code",
   "execution_count": null,
   "metadata": {},
   "outputs": [],
   "source": [
    "class Super:\n",
    "    def method(self): # A real application method\n",
    "        pass\n",
    "class Tool:\n",
    "    def _method(self): # becomes _Tool_method\n",
    "        pass\n",
    "    def other(self): # uses internal method\n",
    "        self._method()\n",
    "class Subl(Tool,Super):\n",
    "    def actions(self):\n",
    "        self.method()\n",
    "class Sub2(Tool):\n",
    "    def __init__(self):\n",
    "        self.method = 100"
   ]
  }
 ],
 "metadata": {
  "kernelspec": {
   "display_name": "Python 3",
   "language": "python",
   "name": "python3"
  },
  "language_info": {
   "codemirror_mode": {
    "name": "ipython",
    "version": 3
   },
   "file_extension": ".py",
   "mimetype": "text/x-python",
   "name": "python",
   "nbconvert_exporter": "python",
   "pygments_lexer": "ipython3",
   "version": "3.9.2"
  },
  "orig_nbformat": 4
 },
 "nbformat": 4,
 "nbformat_minor": 2
}
