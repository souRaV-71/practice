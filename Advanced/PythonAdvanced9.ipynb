{
 "cells": [
  {
   "cell_type": "markdown",
   "metadata": {},
   "source": [
    "Q1. In Python 3.X, what are the names and functions of string object types?\n"
   ]
  },
  {
   "attachments": {},
   "cell_type": "markdown",
   "metadata": {},
   "source": [
    "<str>.isdecimal() -> Returns True if all characters in a str are decimal.\n",
    "\n",
    "<str>.isalnum() -> Returns True if all characters in the str are AlphaNumeric.\n",
    "\n",
    "<str>.istitle() -> Returns True if first character in a str is in Uppercase.\n",
    "\n",
    "<str>.partition(<sub_str>) -> Splits str at first occurance of sub str and returns a tuple of 3 elements.\n",
    "\n",
    "<str>.rpartition(<sub_str>) -> Splits str at last occurance of sub str and returns a tuple of 3 elements.\n",
    "\n",
    "<str>.isidentifier() -> Returns True if give str is a valid identifier name.\n",
    "\n",
    "len(<str>) -> Returns the length of the given str.\n",
    "\n",
    "<str>.index(<sub_str>) -> Returns the lowest index of substr if substr is found in the str.\n",
    "\n",
    "<str>.rindex(<sub_str>) -> Returns the highest index of substr if substr is found in the str.\n",
    "\n",
    "max(<str>) -> Returns the highest Alphabetical Character in the str as per ASCII.\n",
    "\n",
    "min(<str>) -> Returns the lowest Alphabetical Character in the str as per ASCII.\n",
    "\n",
    "<str>.splitlines() -> Returns a list of lines in the str.\n",
    "\n",
    "<str>.capitalize() -> Returns the str with first character capitalized.\n",
    "\n",
    "<str>.upper() -> Returns the str with all characters in uppercase.\n",
    "\n",
    "<str>.lower() -> Returns the str with all characters in lowercase\n",
    "\n",
    "<str>.casefold() -> Returns the str in lowercase which can be used for caseless comparisions.\n",
    "\n",
    "<str>.expandtabs(no_of_spaces) -> Replaces tabs in a str with specified no of spaces default is 8\n",
    "\n",
    "<str>.find(<sub_str>) -> Returns lowest index of substr if substr is found in the str else returns -1.\n",
    "\n",
    "<str>.rfind(<sub_str>) -> Returns highest index of substr if substr is found in the str else returns -1.\n",
    "\n",
    "<str>.count(<char>) -> Returns the no of occurances of the char in the given str.\n",
    "\n",
    "<str>.split(<sep>) -> Returns list of words seperated by given sep else seperated by whitespace.\n",
    "\n",
    "<str>.rsplit(<sep>) -> Returns list of words seperated by given sep else seperated by whitespace scanning from end.\n",
    "\n",
    "<str>.lstrip() -> Returns a copy of where leading whitespaces are removed.\n",
    "\n",
    "<str>.rstrip() -> Returns a copy of where trailed whitespaces are removed.\n",
    "\n",
    "<str>.strip() -> Returns a copy of where both leading and trailing whitespaces are removed.\n",
    "\n",
    "<str>.swapcase() -> Swaps lowercase characters with uppercase and vice versa.\n",
    "\n",
    "<sep>.join(<list>) -> Concatenates a list or tuple of words with intervening occuernces of sep.\n",
    "\n",
    "<str>.translate(<mapping_table>) -> translates the characters using table.\n",
    "\n",
    "<str>.maketrans(<dict>) -> Creating a mapping translation tbale usable for <str>.translate(<mapping_table>)\n",
    "\n",
    "<str>.replace(<char_1>,<char_2>) -> Replace all occurances of char_1 with char_2 in str.\n",
    "\n",
    "<str>.encode() -> Encodes str into any encoding supported by python. Default encoding is UTF-8.\n",
    "\n",
    "<str>.ljust(<no_of_spaces>) -> Left-justify in a field of given width.\n",
    "\n",
    "<str>.rjust(<no_of_spaces>) -> Right-justify in a field of given width.\n",
    "\n",
    "<str>.center(<no_of_spaces>) -> Center-justify in a field of given width.\n",
    "\n",
    "<str>.zfill(<length>) -> Zfill adds zeros to the begining of str until the specified length is reached."
   ]
  },
  {
   "cell_type": "code",
   "execution_count": 2,
   "metadata": {},
   "outputs": [
    {
     "name": "stdout",
     "output_type": "stream",
     "text": [
      "True\n",
      "True\n",
      "False\n",
      "('\"The quick brown ', 'fox', ' jumps over the lazy dog\"')\n",
      "('\"The quick brown ', 'fox', ' jumps over the lazy dog\"')\n",
      "True\n",
      "17\n",
      "11\n",
      "19\n",
      "t\n",
      "A\n",
      "['The quick brown ', ' fox jumps over the ', ' lazy dog ']\n",
      "Machine learning\n",
      "DATAPIPELINES\n",
      "mlops\n",
      "long short term memory\n",
      "Data science    Data Analyst\n",
      "11\n",
      "19\n",
      "2\n",
      "['ArtificialI', 'tellige', 'ce']\n",
      "['ArtificialI', 'tellige', 'ce']\n",
      "EDA \n",
      " EDA\n",
      "EDA\n",
      "eXPLORATORY dATA aNALYSIS\n",
      "Iris_flower_Dataset\n",
      "Long Short-term memory\n",
      "Long Phort-term memory\n",
      "ArtificialI2tellige2ce\n",
      "b'Natural Language Processing'\n",
      "MLOPS     \n",
      "     MLOPS\n",
      "  MLOPS   \n",
      "000Bonjour\n"
     ]
    }
   ],
   "source": [
    "print('86553856568'.isdecimal())\n",
    "print('ArtificialIntelligence'.isalnum())\n",
    "print('The quick brown fox jumps over the lazy dog'.istitle())\n",
    "print('\"The quick brown fox jumps over the lazy dog\"'.partition('fox'))\n",
    "print('\"The quick brown fox jumps over the lazy dog\"'.rpartition('fox'))\n",
    "print('GeeksForGeeks'.isidentifier())\n",
    "print(len('Linear Regression'))\n",
    "print('ArtificialIntelligence'.index('n'))\n",
    "print('ArtificialIntelligence'.rindex('n'))\n",
    "print(max('Data_Scientist'))\n",
    "print(min('Data_Analyst'))\n",
    "print('The quick brown \\n fox jumps over the \\n lazy dog '.splitlines())\n",
    "print('machine learning'.capitalize())\n",
    "print('datapipelines'.upper())\n",
    "print('MLOPS'.lower())\n",
    "print('Long short term memory'.casefold())\n",
    "print('Data science\\tData Analyst'.expandtabs(8))\n",
    "print('ArtificialIntelligence'.find('n'))\n",
    "print('ArtificialIntelligence'.rfind('n'))\n",
    "print('ArtificialIntelligence'.count('c'))\n",
    "print('ArtificialIntelligence'.split('n'))\n",
    "print('ArtificialIntelligence'.rsplit('n'))\n",
    "print(' EDA '.lstrip())\n",
    "print(' EDA '.rstrip())\n",
    "print(' EDA '.strip())\n",
    "print('Exploratory Data Analysis'.swapcase())\n",
    "print('_'.join(['Iris','flower','Dataset']))\n",
    "\n",
    "dct = {70:  60}\n",
    "print(\"Long Short-term memory\".translate(dct))\n",
    "\n",
    "t = \"Long Short-term memory\"\n",
    "tble = t.maketrans(\"S\", \"P\")\n",
    "print(t.translate(tble))\n",
    "\n",
    "print('ArtificialIntelligence'.replace('n','2'))\n",
    "print('Natural Language Processing'.encode())\n",
    "print('MLOPS'.ljust(10))\n",
    "print('MLOPS'.rjust(10))\n",
    "print('MLOPS'.center(10))\n",
    "print('Bonjour'.zfill(10))"
   ]
  },
  {
   "attachments": {},
   "cell_type": "markdown",
   "metadata": {},
   "source": [
    "Q2. How do the string forms in Python 3.X vary in terms of operations?"
   ]
  },
  {
   "attachments": {},
   "cell_type": "markdown",
   "metadata": {},
   "source": [
    "Default format of strings is Unicode in Python3 \n",
    "<br>\n",
    "Python2 need to explicitly mention Unicode value using u"
   ]
  },
  {
   "attachments": {},
   "cell_type": "markdown",
   "metadata": {},
   "source": [
    "\n",
    "Q3. In 3.X, how do you put non-ASCII Unicode characters in a string?"
   ]
  },
  {
   "cell_type": "code",
   "execution_count": 1,
   "metadata": {},
   "outputs": [
    {
     "name": "stdout",
     "output_type": "stream",
     "text": [
      "Collecting Unidecode\n",
      "  Downloading Unidecode-1.3.6-py3-none-any.whl (235 kB)\n",
      "\u001b[K     |████████████████████████████████| 235 kB 937 kB/s eta 0:00:01\n",
      "\u001b[?25hInstalling collected packages: Unidecode\n",
      "Successfully installed Unidecode-1.3.6\n"
     ]
    }
   ],
   "source": [
    "! pip install Unidecode"
   ]
  },
  {
   "cell_type": "code",
   "execution_count": 2,
   "metadata": {},
   "outputs": [
    {
     "name": "stdout",
     "output_type": "stream",
     "text": [
      "kozuscek\n",
      "30 km/h\n",
      "Bei Jing \n"
     ]
    }
   ],
   "source": [
    "from unidecode import unidecode\n",
    "\n",
    "print(unidecode('kožušček'))\n",
    "print(unidecode('30 \\U0001d5c4\\U0001d5c6/\\U0001d5c1'))\n",
    "print(unidecode('\\u5317\\u4EB0')) "
   ]
  },
  {
   "attachments": {},
   "cell_type": "markdown",
   "metadata": {},
   "source": [
    "\n",
    "Q4. In Python 3.X, what are the key differences between text-mode and binary-mode files?"
   ]
  },
  {
   "attachments": {},
   "cell_type": "markdown",
   "metadata": {},
   "source": [
    "Text file : contains textual information in the form of alphabets, digits and special characters or symbols.\n",
    "<br>\n",
    "Binary file : contains bytes or a compiled version of a text file.\n",
    "<br>\n",
    "When a file is opened in text mode, reading its data automatically decodes its content (as per the platform default or as per provided encoding), and returns it as a str; writing operation takes a str, and automatically encodes it before transferring to the file. Text mode files also support universal end-of-line translation, and encoding specification arguments.\n",
    "<br>\n",
    "When a file is opened in binary mode by adding a b to the mode string argument in the open() call, reading its data does not decode it in any way, and simply returns its content raw and unchanged, as a bytes object; writing takes a bytes object and transfers it to the file unchanged. Binary-mode files also accept a bytearray object for the content to be written to the file."
   ]
  },
  {
   "attachments": {},
   "cell_type": "markdown",
   "metadata": {},
   "source": [
    "\n",
    "Q5. How can you interpret a Unicode text file containing text encoded in a different encoding than\n",
    "your platform&#39;s default?"
   ]
  },
  {
   "attachments": {},
   "cell_type": "markdown",
   "metadata": {},
   "source": [
    "encode() and decode() used to interpret a Unicode text file containing text encoded in a different encoding than your platform's default, by default encoding parameter is UTF-8."
   ]
  },
  {
   "attachments": {},
   "cell_type": "markdown",
   "metadata": {},
   "source": [
    "\n",
    "Q6. What is the best way to make a Unicode text file in a particular encoding format?\n"
   ]
  },
  {
   "attachments": {},
   "cell_type": "markdown",
   "metadata": {},
   "source": [
    "str.encode() and file.write()\n",
    "<br>\n",
    "Call str.encode(encoding) with encoding set to utf8 to encode str.\n",
    "<br>\n",
    "Call open(file, mode) to open a file with mode set to wb . wb writes to files in binary mode & preserves UTF-8format.\n",
    "<br>\n",
    "Call file.write(data) to write data to the file."
   ]
  },
  {
   "cell_type": "code",
   "execution_count": 4,
   "metadata": {},
   "outputs": [
    {
     "name": "stdout",
     "output_type": "stream",
     "text": [
      "b'\\xe0\\xa4\\xae\\xe0\\xa5\\x88\\xe0\\xa4\\x82 \\xe0\\xa4\\x95\\xe0\\xa5\\x87\\xe0\\xa4\\xb0\\xe0\\xa4\\xb2 \\xe0\\xa4\\x95\\xe0\\xa4\\xbe \\xe0\\xa4\\xb0\\xe0\\xa4\\xb9\\xe0\\xa4\\xa8\\xe0\\xa5\\x87 \\xe0\\xa4\\xb5\\xe0\\xa4\\xbe\\xe0\\xa4\\xb2\\xe0\\xa4\\xbe \\xe0\\xa4\\xb9\\xe0\\xa5\\x82\\xe0\\xa4\\x81'\n",
      "\n",
      "b'\\xe0\\xa4\\xae\\xe0\\xa5\\x88\\xe0\\xa4\\x82 \\xe0\\xa4\\x95\\xe0\\xa5\\x87\\xe0\\xa4\\xb0\\xe0\\xa4\\xb2 \\xe0\\xa4\\x95\\xe0\\xa4\\xbe \\xe0\\xa4\\xb0\\xe0\\xa4\\xb9\\xe0\\xa4\\xa8\\xe0\\xa5\\x87 \\xe0\\xa4\\xb5\\xe0\\xa4\\xbe\\xe0\\xa4\\xb2\\xe0\\xa4\\xbe \\xe0\\xa4\\xb9\\xe0\\xa5\\x82\\xe0\\xa4\\x81'\n"
     ]
    }
   ],
   "source": [
    "uncdeTxt = u\"मैं केरल का रहने वाला हूँ\"\n",
    "encodedUncdeTxt = uncdeTxt.encode(\"utf-8\")\n",
    "print(encodedUncdeTxt,end=\"\\n\\n\")\n",
    "\n",
    "w_file = open(\"w_file.txt\",\"wb\")\n",
    "w_file.write(encodedUncdeTxt)\n",
    "w_file.close()\n",
    "\n",
    "r_file = open(\"w_file.txt\",\"rb\")\n",
    "d = r_file.read()\n",
    "print(d)"
   ]
  },
  {
   "attachments": {},
   "cell_type": "markdown",
   "metadata": {},
   "source": [
    "\n",
    "Q7. What qualifies ASCII text as a form of Unicode text?"
   ]
  },
  {
   "attachments": {},
   "cell_type": "markdown",
   "metadata": {},
   "source": [
    "Unicode represents most written languages in the world. ASCII has its equivalent in Unicode. The difference between ASCII and Unicode is that ASCII represents lowercase letters (a-z), uppercase letters (A-Z), digits (0–9) and symbols such as punctuation marks while Unicode represents letters of English, Arabic, Greek etc. mathematical symbols, historical scripts, emoji covering a wide range of characters than ASCII."
   ]
  },
  {
   "attachments": {},
   "cell_type": "markdown",
   "metadata": {},
   "source": [
    "Q8. How much of an effect does the change in string types in Python 3.X have on your code?"
   ]
  },
  {
   "attachments": {},
   "cell_type": "markdown",
   "metadata": {},
   "source": [
    "Strings are stored as Unicode by default in Python3 .In Python2 you have to mark a string with a u if you want to store it as Unicode. Unicode strings are more versatile than ASCII strings, which are the Python 3.X default, as they can store letters from foreign languages as well as emoji and the standard Roman letters and numerals."
   ]
  }
 ],
 "metadata": {
  "kernelspec": {
   "display_name": "Python 3",
   "language": "python",
   "name": "python3"
  },
  "language_info": {
   "codemirror_mode": {
    "name": "ipython",
    "version": 3
   },
   "file_extension": ".py",
   "mimetype": "text/x-python",
   "name": "python",
   "nbconvert_exporter": "python",
   "pygments_lexer": "ipython3",
   "version": "3.9.2"
  },
  "orig_nbformat": 4
 },
 "nbformat": 4,
 "nbformat_minor": 2
}
