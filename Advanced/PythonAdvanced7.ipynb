{
 "cells": [
  {
   "attachments": {},
   "cell_type": "markdown",
   "metadata": {},
   "source": [
    "Q1. What is the purpose of the try statement?"
   ]
  },
  {
   "attachments": {},
   "cell_type": "markdown",
   "metadata": {},
   "source": [
    "For exception handling , consists of a block of risky statements which might cause an exception during runtime thus cause abnormal halt of the program so if code within try block raises exception, then the exception will be reverted to the corresponding except block if multiple except blocks are present, else it will be reverted to the default except block."
   ]
  },
  {
   "cell_type": "code",
   "execution_count": 1,
   "metadata": {},
   "outputs": [
    {
     "name": "stdout",
     "output_type": "stream",
     "text": [
      "Division by Zero is Not Possible\n"
     ]
    }
   ],
   "source": [
    "a = int(input())\n",
    "\n",
    "try:\n",
    "    print(a/0)\n",
    "except ZeroDivisionError:\n",
    "    print('Division by Zero is Not Possible')"
   ]
  },
  {
   "attachments": {},
   "cell_type": "markdown",
   "metadata": {},
   "source": [
    "Q2. What are the two most popular try statement variations?"
   ]
  },
  {
   "attachments": {},
   "cell_type": "markdown",
   "metadata": {},
   "source": [
    "try,except\n",
    "<br>\n",
    "try,except,finally\n",
    "<br>\n",
    "try,except,finally,else\n",
    "<br>\n",
    "<br>\n",
    "try block : check code for exceptions during runtime code inside try block will execute completely when there is no error in the program.\n",
    "<br>\n",
    "except block : code inside will execute whenever the program encounters some error in the preceeding try block.\n",
    "<br>\n",
    "else block : code enters if and only if the try clause does not raise and exception.\n",
    "<br>\n",
    "finally block : will execute irrespective of exception.\n",
    "\n"
   ]
  },
  {
   "attachments": {},
   "cell_type": "markdown",
   "metadata": {},
   "source": [
    "Q3. What is the purpose of the raise statement?"
   ]
  },
  {
   "attachments": {},
   "cell_type": "markdown",
   "metadata": {},
   "source": [
    "Trigger an exception explicitly. If a certain condition is not as per requirement of programmer,raise statement helps in triggering exception as per programming logic."
   ]
  },
  {
   "attachments": {},
   "cell_type": "markdown",
   "metadata": {},
   "source": [
    "Q4. What does the assert statement do, and what other statement is it like?"
   ]
  },
  {
   "attachments": {},
   "cell_type": "markdown",
   "metadata": {},
   "source": [
    "There are few assertions always need to be true to avoid code failure which is fulfilled by assert statement."
   ]
  },
  {
   "cell_type": "code",
   "execution_count": 2,
   "metadata": {},
   "outputs": [
    {
     "ename": "AssertionError",
     "evalue": "this is not a valid statement 6 is not equal to 9",
     "output_type": "error",
     "traceback": [
      "\u001b[0;31m---------------------------------------------------------------------------\u001b[0m",
      "\u001b[0;31mAssertionError\u001b[0m                            Traceback (most recent call last)",
      "Cell \u001b[0;32mIn[2], line 1\u001b[0m\n\u001b[0;32m----> 1\u001b[0m \u001b[39massert\u001b[39;00m(\u001b[39m6\u001b[39m \u001b[39m==\u001b[39m \u001b[39m9\u001b[39m), \u001b[39mf\u001b[39m\u001b[39m'\u001b[39m\u001b[39mthis is not a valid statement 6 is not equal to 9\u001b[39m\u001b[39m'\u001b[39m\n",
      "\u001b[0;31mAssertionError\u001b[0m: this is not a valid statement 6 is not equal to 9"
     ]
    }
   ],
   "source": [
    "assert(6 == 9), f'this is not a valid statement 6 is not equal to 9'"
   ]
  },
  {
   "attachments": {},
   "cell_type": "markdown",
   "metadata": {},
   "source": [
    "Q5. What is the purpose of the with/as argument, and what other statement is it like?"
   ]
  },
  {
   "attachments": {},
   "cell_type": "markdown",
   "metadata": {},
   "source": [
    "It simplifies use of file handling in python. \n",
    "<br>\n",
    "When we use a with statement for file reading, there is no need for programmer to explicitly takecare of activities like resource deallocation and file closing by using file.close() method. with statement itself ensures proper acquisition and release of resources thus avoids triggering of exceptions if file closing is unknowingly forgotten in the code execution.\n",
    "<br>\n",
    "with open('sample_file.txt','w') as file: file.write('Hello World')"
   ]
  }
 ],
 "metadata": {
  "kernelspec": {
   "display_name": "Python 3",
   "language": "python",
   "name": "python3"
  },
  "language_info": {
   "codemirror_mode": {
    "name": "ipython",
    "version": 3
   },
   "file_extension": ".py",
   "mimetype": "text/x-python",
   "name": "python",
   "nbconvert_exporter": "python",
   "pygments_lexer": "ipython3",
   "version": "3.9.2"
  },
  "orig_nbformat": 4
 },
 "nbformat": 4,
 "nbformat_minor": 2
}
