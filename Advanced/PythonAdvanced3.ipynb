{
 "cells": [
  {
   "attachments": {},
   "cell_type": "markdown",
   "metadata": {},
   "source": [
    "1. What is the concept of an abstract superclass?"
   ]
  },
  {
   "attachments": {},
   "cell_type": "markdown",
   "metadata": {},
   "source": [
    "Abstract class/superclass can be considered as a blueprint for other classes. It allows us to create a set of methods that must be created within any child classes built from the abstract class. A class which contains one or more abstract methods is called an abstract class.\n",
    "<br>\n",
    "Whereas an abstract method is a method that has a declaration but does not have an implementation"
   ]
  },
  {
   "cell_type": "code",
   "execution_count": 2,
   "metadata": {},
   "outputs": [],
   "source": [
    "from abc import ABC, abstractmethod\n",
    "class Poly(ABC): # Abstract Class\n",
    "    @abstractmethod\n",
    "    def sides(self): # Abstract Method\n",
    "        pass\n",
    "class Tri(Poly):\n",
    "    def sides(self):  # overriding abstract method in child class Tri\n",
    "        print(\"3 sides\")\n",
    "class Pent(Poly):\n",
    "    def sides(self): # overriding abstract method in child class Pent\n",
    "        print(\"5 sides\")"
   ]
  },
  {
   "attachments": {},
   "cell_type": "markdown",
   "metadata": {},
   "source": [
    "2. What happens when a class statement's top level contains a basic assignment statement?"
   ]
  },
  {
   "attachments": {},
   "cell_type": "markdown",
   "metadata": {},
   "source": [
    "Class statement's top level contains a basic assignment statement, usually treated as a class attribute or class level variable.\n",
    "Whereas assignment statements inside methods are treated as instance attributes or local attributes.\n",
    "<br>\n",
    "When an instance of a class is created a single copy of class attributes is maintained and shared to all instances of class. where as each instance object maintains its own copy of instance variables."
   ]
  },
  {
   "cell_type": "code",
   "execution_count": 3,
   "metadata": {},
   "outputs": [],
   "source": [
    "class P:\n",
    "    species = 'ABCXYZ' # class attribute\n",
    "    def __init__(self,name,gender):\n",
    "        self.name = name # instance attributes\n",
    "        self.gender = gender"
   ]
  },
  {
   "attachments": {},
   "cell_type": "markdown",
   "metadata": {},
   "source": [
    "3. Why does a class need to manually call a superclass's init method?"
   ]
  },
  {
   "attachments": {},
   "cell_type": "markdown",
   "metadata": {},
   "source": [
    " if a child class has __init__ method, then it will not inherit the __init__ method of the parent class. in other words the __init__ method of the child class overrides the __init__ method of the parent class. so we\n",
    " have to manually call a parent superclass's __init__ using super() method"
   ]
  },
  {
   "cell_type": "code",
   "execution_count": 4,
   "metadata": {},
   "outputs": [
    {
     "name": "stdout",
     "output_type": "stream",
     "text": [
      "{'sal': 50000}\n"
     ]
    }
   ],
   "source": [
    "class P:\n",
    "    def __init__(self,name,age):\n",
    "        self.name = name\n",
    "        self.age = age       \n",
    "class Emp(P):\n",
    "    def __init__(self,name,age,sal):\n",
    "        #super().__init__(name,age)\n",
    "        self.sal = sal\n",
    "e1 = Emp('S M',25,50000)\n",
    "print(e1.__dict__)"
   ]
  },
  {
   "cell_type": "code",
   "execution_count": 5,
   "metadata": {},
   "outputs": [
    {
     "name": "stdout",
     "output_type": "stream",
     "text": [
      "{'name': 'S M', 'age': 25, 'sal': 50000}\n"
     ]
    }
   ],
   "source": [
    "class P:\n",
    "    def __init__(self,name,age):\n",
    "        self.name = name\n",
    "        self.age = age       \n",
    "class Emp(P):\n",
    "    def __init__(self,name,age,sal):\n",
    "        super().__init__(name,age)\n",
    "        self.sal = sal\n",
    "e1 = Emp('S M',25,50000)\n",
    "print(e1.__dict__)"
   ]
  },
  {
   "attachments": {},
   "cell_type": "markdown",
   "metadata": {},
   "source": [
    "4. How can you augment, instead of completely replacing, an inherited method?"
   ]
  },
  {
   "attachments": {},
   "cell_type": "markdown",
   "metadata": {},
   "source": [
    "super() method can be used to augment, instead of completely replacing, an inherited method."
   ]
  },
  {
   "cell_type": "code",
   "execution_count": 6,
   "metadata": {},
   "outputs": [
    {
     "name": "stdout",
     "output_type": "stream",
     "text": [
      "{'name': 'S M', 'gender': 25, 'sal': 50000}\n"
     ]
    }
   ],
   "source": [
    "class P:\n",
    "    def __init__(self,name,gender):\n",
    "        self.name = name\n",
    "        self.gender = gender\n",
    "class Emp(P):\n",
    "    def __init__(self,name,gender,sal):\n",
    "        super().__init__(name,gender) \n",
    "        self.sal = sal\n",
    "e1 = Emp('S M',25,50000)\n",
    "print(e1.__dict__)       "
   ]
  },
  {
   "attachments": {},
   "cell_type": "markdown",
   "metadata": {},
   "source": [
    "5. How is the local scope of a class different from that of a function?"
   ]
  },
  {
   "attachments": {},
   "cell_type": "markdown",
   "metadata": {},
   "source": [
    "A Variable which is defined inside a function is local to that function,accesible until the end of the function, and exists for as long as the function is existing.\n",
    "<br>\n",
    "Similary a variable inside of a class also has a local variable scope. Variables which are defined in the class body (but outside all methods) are called as class level variables or class attributes, referenced by there bare names within the same scope, but they can also be accessed from outside this scope if we use the attribute access operator (.). on a class or an instance of the class."
   ]
  },
  {
   "cell_type": "code",
   "execution_count": 7,
   "metadata": {},
   "outputs": [
    {
     "name": "stdout",
     "output_type": "stream",
     "text": [
      "you're name is Michael Daniels\n",
      "Name varible is not available outside m1 function scope\n",
      "species\n",
      "species\n"
     ]
    }
   ],
   "source": [
    "def m1(name):\n",
    "    name = name\n",
    "    print(f'you\\'re name is {name}')\n",
    "m1('Michael Daniels')\n",
    "try:\n",
    "    name\n",
    "except NameError:\n",
    "    print('Name varible is not available outside m1 function scope')\n",
    "\n",
    "class P:\n",
    "    spp = \"species\"\n",
    "    def __init__(self):\n",
    "        pass\n",
    "print(P.spp) # Accessing spp using class name\n",
    "M = P()\n",
    "print(M.spp) # Accessing spp using instance of class"
   ]
  }
 ],
 "metadata": {
  "kernelspec": {
   "display_name": "Python 3",
   "language": "python",
   "name": "python3"
  },
  "language_info": {
   "codemirror_mode": {
    "name": "ipython",
    "version": 3
   },
   "file_extension": ".py",
   "mimetype": "text/x-python",
   "name": "python",
   "nbconvert_exporter": "python",
   "pygments_lexer": "ipython3",
   "version": "3.9.2"
  },
  "orig_nbformat": 4
 },
 "nbformat": 4,
 "nbformat_minor": 2
}
