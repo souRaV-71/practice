{
 "cells": [
  {
   "attachments": {},
   "cell_type": "markdown",
   "metadata": {},
   "source": [
    "Q1. What is the purpose of Python's OOP?"
   ]
  },
  {
   "attachments": {},
   "cell_type": "markdown",
   "metadata": {},
   "source": [
    "Object-oriented programming structures programs so that properties and behaviors integrated into individual objects.\n",
    "\n",
    "In Python, OOPs uses objects and classes in programming to implement real-world entities like inheritance, polymorphisms, encapsulation, etc. in the programming.\n",
    "<br>\n",
    "Advantages:\n",
    "<br>\n",
    "It helps to divide our over all program into different small segments and thus making it solving easy with the use of objects.\n",
    "<br>\n",
    "Helps in easy maintenance and modification of existing program\n",
    "<br>\n",
    "Multiple instances of an object can be made."
   ]
  },
  {
   "attachments": {},
   "cell_type": "markdown",
   "metadata": {},
   "source": [
    "Q2. Where does an inheritance search look for an attribute?"
   ]
  },
  {
   "attachments": {},
   "cell_type": "markdown",
   "metadata": {},
   "source": [
    "Python searches for an attribute in an upward tree of attributes. it first searches for the attribute in its instance and then looks in the class it is generated from, to all super classes listed in its class header."
   ]
  },
  {
   "attachments": {},
   "cell_type": "markdown",
   "metadata": {},
   "source": [
    "Q3. How do you distinguish between a class object and an instance object?"
   ]
  },
  {
   "attachments": {},
   "cell_type": "markdown",
   "metadata": {},
   "source": [
    "differences between a class object and an instance object:\n",
    "\n",
    "Class is a template for creating objects.Object is an instance of class.\n",
    "<br>\n",
    "Seperate memory is allocated for each object whenever an object is created. But not for class\n",
    "<br>\n",
    "A Class is created once. Many objects are created using a class.\n",
    "<br>\n",
    "As Classes have no allocated memory. they can't be manipulated. but objects can be manipulated."
   ]
  },
  {
   "attachments": {},
   "cell_type": "markdown",
   "metadata": {},
   "source": [
    "Q4. What makes the first argument in a class’s method function special?"
   ]
  },
  {
   "attachments": {},
   "cell_type": "markdown",
   "metadata": {},
   "source": [
    "In python classes there are 3 types of methods:\n",
    "\n",
    "Instance Methods (object level methods)\n",
    "<br>\n",
    "Class Methods (class level methods)\n",
    "<br>\n",
    "Static Methods (general utility methods)\n",
    "<br>\n",
    "self is the first argument for instance methods refers to the object itself\n",
    "<br>\n",
    "cls is the first argument for class methods refers to the class itself"
   ]
  },
  {
   "attachments": {},
   "cell_type": "markdown",
   "metadata": {},
   "source": [
    "Q5. What is the purpose of the init method?"
   ]
  },
  {
   "attachments": {},
   "cell_type": "markdown",
   "metadata": {},
   "source": [
    "__init__ is a reseved method in python classes. It serves the role of a constructor in object oriented terminology , is called when an object is created from a class and it allows the class to initialize the attributes of the class"
   ]
  },
  {
   "attachments": {},
   "cell_type": "markdown",
   "metadata": {},
   "source": [
    "Q6. What is the process for creating a class instance?"
   ]
  },
  {
   "attachments": {},
   "cell_type": "markdown",
   "metadata": {},
   "source": [
    "name = cls(\"Bob\",\"Mike\") \n",
    "<br>\n",
    "Here name is an instance of class cls with attributes \"Bob\" and \"Mike\"."
   ]
  },
  {
   "attachments": {},
   "cell_type": "markdown",
   "metadata": {},
   "source": [
    "Q7. What is the process for creating a class?"
   ]
  },
  {
   "attachments": {},
   "cell_type": "markdown",
   "metadata": {},
   "source": [
    "class Car:"
   ]
  },
  {
   "attachments": {},
   "cell_type": "markdown",
   "metadata": {},
   "source": [
    "Q8. How would you define the superclasses of a class?"
   ]
  },
  {
   "attachments": {},
   "cell_type": "markdown",
   "metadata": {},
   "source": [
    "Superclass/Parent class is given as a arugment to the child class\n",
    "\n",
    "Example: class Emp(P): Here child class Emp inherits attributes and methods from Superclass/Parent P"
   ]
  }
 ],
 "metadata": {
  "language_info": {
   "name": "python"
  },
  "orig_nbformat": 4
 },
 "nbformat": 4,
 "nbformat_minor": 2
}
