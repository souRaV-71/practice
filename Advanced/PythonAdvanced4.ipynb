{
 "cells": [
  {
   "attachments": {},
   "cell_type": "markdown",
   "metadata": {},
   "source": [
    "Q1. Which two operator overloading methods can you use in your classes to support iteration?"
   ]
  },
  {
   "attachments": {},
   "cell_type": "markdown",
   "metadata": {},
   "source": [
    "__iter__ returns the iterator object,called at the start of loop in our respective class.\n",
    "<br>\n",
    "__next__ is called at each loop increment,returns the incremented value. Also Stopiteration is raised when there is no value to return."
   ]
  },
  {
   "cell_type": "code",
   "execution_count": 3,
   "metadata": {},
   "outputs": [
    {
     "name": "stdout",
     "output_type": "stream",
     "text": [
      "1 2 3 4 5 6 7 8 9 10 "
     ]
    }
   ],
   "source": [
    "class A:\n",
    "    def __init__(self,low,high):\n",
    "        self.l = low\n",
    "        self.h = high\n",
    "    def __iter__(self):\n",
    "        return self\n",
    "    def __next__(self):\n",
    "        if self.l > self.h:\n",
    "            raise StopIteration\n",
    "        else:\n",
    "            self.l += 1\n",
    "            return self.l - 1\n",
    "for i in A(1,10):\n",
    "    print(i, end=\" \")"
   ]
  },
  {
   "attachments": {},
   "cell_type": "markdown",
   "metadata": {},
   "source": [
    "Q2. In what contexts do the two operator overloading methods manage printing?"
   ]
  },
  {
   "attachments": {},
   "cell_type": "markdown",
   "metadata": {},
   "source": [
    "__str__ and __repr__ are two operator overloading methods that manage printing.\n",
    "<br>\n",
    "<br>\n",
    "Difference is the goal of __repr__ is to be unambiguous whereas __str__ is to be readable.\n",
    "<br>\n",
    "While printing any object reference internally __str__ method will be called by default.\n",
    "<br>\n",
    "The main purpose of __str__ is for readability. It prints the informal string representation of an object, one that is useful for printing the object. It may not be possible to convert result string to original object.\n",
    "<br>\n",
    "__repr__ is used to print official string representation of an object, so it includes all information and development."
   ]
  },
  {
   "cell_type": "code",
   "execution_count": 4,
   "metadata": {},
   "outputs": [
    {
     "name": "stdout",
     "output_type": "stream",
     "text": [
      "<__main__.B object at 0x7fdcb013ca00>\n",
      "B n: Mike and RNo: 21\n",
      "2023-05-26 15:20:36.546151\n",
      "Unable to convert back to original object\n",
      "datetime.datetime(2023, 5, 26, 15, 20, 36, 546151)\n",
      "2023-05-26 15:20:36.546151\n"
     ]
    }
   ],
   "source": [
    "class B:\n",
    "    def __init__(self,n,r_n):\n",
    "        self.n = n\n",
    "        self.r_n = r_n\n",
    "        \n",
    "s1 = B(\"Mike\",21)\n",
    "print(str(s1))\n",
    "\n",
    "class B:\n",
    "    def __init__(self,n,r_n):\n",
    "        self.n = n\n",
    "        self.r_n = r_n\n",
    "    def __str__(self):\n",
    "        return f'B n: {self.n} and RNo: {self.r_n}'\n",
    "    \n",
    "s1 = B(\"Mike\",21)\n",
    "print(str(s1))\n",
    "\n",
    "import datetime\n",
    "today = datetime.datetime.now()\n",
    "\n",
    "s = str(today)          # converting datetime object to presentable str\n",
    "print(s)\n",
    "try: d = eval(s)            # converting str back to datetime object\n",
    "except: print(\"Unable to convert back to original object\")\n",
    "    \n",
    "u = repr(today)             # converting datetime object to str\n",
    "print(u)\n",
    "e = eval(u)             # converting str back to datetime object\n",
    "print(e)"
   ]
  },
  {
   "attachments": {},
   "cell_type": "markdown",
   "metadata": {},
   "source": [
    "Q3. In a class, how do you intercept slice operations?"
   ]
  },
  {
   "attachments": {},
   "cell_type": "markdown",
   "metadata": {},
   "source": [
    "In a class use of slice() in __getitem__ method is used for intercept slice operation. This slice method is provided with start integer number, stop integer number and step integer number.\n",
    "<br>\n",
    "Example: __getitem__(slice(start,stop,step))"
   ]
  },
  {
   "attachments": {},
   "cell_type": "markdown",
   "metadata": {},
   "source": [
    "Q4. In a class, how do you capture in-place addition?"
   ]
  },
  {
   "attachments": {},
   "cell_type": "markdown",
   "metadata": {},
   "source": [
    "a+b is normal addition.\n",
    "<br>\n",
    "a+=b is inplace addition operation. In this in-place addition a itself will store the value of addition. In a class __iadd__ method is used for this in-place operation"
   ]
  },
  {
   "cell_type": "code",
   "execution_count": 6,
   "metadata": {},
   "outputs": [
    {
     "name": "stdout",
     "output_type": "stream",
     "text": [
      "1000\n"
     ]
    }
   ],
   "source": [
    "class C:\n",
    "    def __init__(self,x):\n",
    "        self.x = x\n",
    "    def __iadd__(self,other):\n",
    "        self.x += other.x\n",
    "        return self.x\n",
    "        \n",
    "o1 = C(400)\n",
    "o2 = C(600)\n",
    "o1+=o2\n",
    "print(o1)"
   ]
  },
  {
   "attachments": {},
   "cell_type": "markdown",
   "metadata": {},
   "source": [
    "Q5. When is it appropriate to use operator overloading?"
   ]
  },
  {
   "attachments": {},
   "cell_type": "markdown",
   "metadata": {},
   "source": [
    "Operator overloading is used when an operator other than its normal operation to have different meaning according to the context required in user defined function."
   ]
  },
  {
   "cell_type": "code",
   "execution_count": 7,
   "metadata": {},
   "outputs": [
    {
     "name": "stdout",
     "output_type": "stream",
     "text": [
      "Total 1600\n"
     ]
    }
   ],
   "source": [
    "class D:\n",
    "    def __init__(self,y):\n",
    "        self.y = y\n",
    "    def __add__(self,other):\n",
    "        return self.y+other.y\n",
    "ob1 = D(1000)\n",
    "ob2 = D(600)\n",
    "print(f'Total {ob1+ob2}')"
   ]
  }
 ],
 "metadata": {
  "kernelspec": {
   "display_name": "Python 3",
   "language": "python",
   "name": "python3"
  },
  "language_info": {
   "codemirror_mode": {
    "name": "ipython",
    "version": 3
   },
   "file_extension": ".py",
   "mimetype": "text/x-python",
   "name": "python",
   "nbconvert_exporter": "python",
   "pygments_lexer": "ipython3",
   "version": "3.9.2"
  },
  "orig_nbformat": 4
 },
 "nbformat": 4,
 "nbformat_minor": 2
}
