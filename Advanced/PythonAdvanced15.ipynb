{
 "cells": [
  {
   "attachments": {},
   "cell_type": "markdown",
   "metadata": {},
   "source": [
    "1. What are the new features added in Python 3.8 version?"
   ]
  },
  {
   "attachments": {},
   "cell_type": "markdown",
   "metadata": {},
   "source": [
    "- Walrus Operator: Used to assign and return a value in the same expression. This removes the need for initializing the variable upfront. The major benefit of this is it saves some lines of code. It is also known as The Walrus Operator due to its similarity to the eyes and tusks of a walrus.\n",
    "\n",
    "- No need of  parentheses in Yield & Return statements to return multiple values.\n",
    "\n",
    "- Reversed works with a dictionary. The built-in method reversed() can be used for accessing the elements in the reverse order of insertion\n",
    "\n",
    "- Dict comprehensions have been modified so that the key is computed first and the value second.\n",
    "\n",
    "- importlib_metadata is a new library added in the Python’s standard utility modules, that provides an API for accessing an installed package’s metadata, such as its entry points or its top-level name.\n",
    "\n",
    "- f-strings now support = , to make string interpolation easy. Python 3.8 allows the use of the above-discussed assignment operator and equal sign (=) inside the f-strings.\n",
    "\n",
    "- In the three-argument form of pow(), when the exponent is -1, it calculates the modular multiplicative inverse of the given value\n",
    "\n",
    "- The csv.DictReader now returns instances of dictionary instead of a collections.OrderedDict.\n",
    "\n",
    "- If you miss a comma in your code such as a = [(1, 2) (3, 4)], instead of throwing TypeError, it displays an informative Syntax warning."
   ]
  },
  {
   "cell_type": "code",
   "execution_count": 1,
   "metadata": {},
   "outputs": [
    {
     "name": "stderr",
     "output_type": "stream",
     "text": [
      "<>:33: SyntaxWarning: 'tuple' object is not callable; perhaps you missed a comma?\n",
      "<>:33: SyntaxWarning: 'tuple' object is not callable; perhaps you missed a comma?\n",
      "/tmp/ipykernel_23124/1338889129.py:33: SyntaxWarning: 'tuple' object is not callable; perhaps you missed a comma?\n",
      "  l5 = [(1, 2)(3, 4)]\n"
     ]
    },
    {
     "name": "stdout",
     "output_type": "stream",
     "text": [
      "15\n",
      "('Computer', 'Science and Engineering')\n",
      "(0, 0) (1, 1) (2, 4) (3, 9) (4, 16) \n",
      "Course:\"CSE\"\n",
      "Nm:\"Bob Thoderson\"\n",
      "strlength: StrLen = 30\n"
     ]
    },
    {
     "name": "stderr",
     "output_type": "stream",
     "text": [
      "/tmp/ipykernel_23124/1338889129.py:33: SyntaxWarning: 'tuple' object is not callable; perhaps you missed a comma?\n",
      "  l5 = [(1, 2)(3, 4)]\n",
      "/tmp/ipykernel_23124/1338889129.py:33: SyntaxWarning: 'tuple' object is not callable; perhaps you missed a comma?\n",
      "  l5 = [(1, 2)(3, 4)]\n"
     ]
    },
    {
     "ename": "TypeError",
     "evalue": "'tuple' object is not callable",
     "output_type": "error",
     "traceback": [
      "\u001b[0;31m---------------------------------------------------------------------------\u001b[0m",
      "\u001b[0;31mTypeError\u001b[0m                                 Traceback (most recent call last)",
      "Cell \u001b[0;32mIn[1], line 33\u001b[0m\n\u001b[1;32m     30\u001b[0m \u001b[39mprint\u001b[39m(\u001b[39mf\u001b[39m\u001b[39m\"\u001b[39m\u001b[39mstrlength: \u001b[39m\u001b[39m{\u001b[39;00mStrLen\u001b[39m \u001b[39m\u001b[39m= }\u001b[39;00m\u001b[39m\"\u001b[39m)\n\u001b[1;32m     32\u001b[0m \u001b[39m# Infomrative syntax instead of synatx error while missing comma.\u001b[39;00m\n\u001b[0;32m---> 33\u001b[0m l5 \u001b[39m=\u001b[39m [(\u001b[39m1\u001b[39;49m, \u001b[39m2\u001b[39;49m)(\u001b[39m3\u001b[39;49m, \u001b[39m4\u001b[39;49m)]\n",
      "\u001b[0;31mTypeError\u001b[0m: 'tuple' object is not callable"
     ]
    }
   ],
   "source": [
    "# Walrus Op\n",
    "if (sum := 10 + 5) > 10:\n",
    "    print(sum)\n",
    "\n",
    "\n",
    "# Yield and Return\n",
    "def f1():\n",
    "    return \"Computer\", \"Science and Engineering\"\n",
    "\n",
    "\n",
    "print(f1())\n",
    "\n",
    "\n",
    "def f2():\n",
    "    for i in range(5):\n",
    "        yield i, i**2\n",
    "\n",
    "\n",
    "for x in f2():\n",
    "    print(x, end=\" \")\n",
    "print()\n",
    "\n",
    "# Reversed Support for Dict\n",
    "dct = {\"Nm\": \"Bob Thoderson\", \"Course\": \"CSE\"}\n",
    "for x in reversed(dct):\n",
    "    print(f'{x}:\"{dct[x]}\"')\n",
    "\n",
    "# using = in F-strings\n",
    "StrLen = len(\"Machine Learning is the Future\")\n",
    "print(f\"strlength: {StrLen = }\")\n",
    "\n",
    "# Infomrative syntax instead of synatx error while missing comma.\n",
    "l5 = [(1, 2)(3, 4)]"
   ]
  },
  {
   "attachments": {},
   "cell_type": "markdown",
   "metadata": {},
   "source": [
    "\n",
    "2. What is monkey patching in Python?"
   ]
  },
  {
   "cell_type": "code",
   "execution_count": 4,
   "metadata": {},
   "outputs": [
    {
     "name": "stdout",
     "output_type": "stream",
     "text": [
      "mnky() called\n"
     ]
    }
   ],
   "source": [
    "# monkey patch refers to making dynamic (or run-time) modifications to a class / module.\n",
    "# In Python, we can actually change the behavior of code at run-time.\n",
    "\n",
    "\n",
    "class A:\n",
    "    def func(self):\n",
    "        print(\"func() called\")\n",
    "\n",
    "\n",
    "def mnky(self):\n",
    "    print(\"mnky() called\")\n",
    "\n",
    "\n",
    "A.func = mnky\n",
    "obj = A()\n",
    "obj.func()"
   ]
  },
  {
   "attachments": {},
   "cell_type": "markdown",
   "metadata": {},
   "source": [
    "\n",
    "3. What is the difference between a shallow copy and deep copy?"
   ]
  },
  {
   "attachments": {},
   "cell_type": "markdown",
   "metadata": {},
   "source": [
    "Object is copied using copy() is shallow copy as changes made in copied object will also be reflected in original object,as both the objects will be referencing same address location.\n",
    "\n",
    "Object is copied using deepcopy() is deep copy as changes made in copied object will not be reflected in original object,because both the objects will not be referencing same address location."
   ]
  },
  {
   "cell_type": "code",
   "execution_count": 6,
   "metadata": {},
   "outputs": [
    {
     "name": "stdout",
     "output_type": "stream",
     "text": [
      "Before\n",
      "[10, 20, [30, 4], 50, 60]\n",
      "[10, 20, [30, 4], 50, 60]\n",
      "[10, 20, [30, 4], 50, 60]\n",
      "After\n",
      "[10, 20, [30, 4], 50, 20]\n",
      "[10, 20, [30, 4], 50, 60]\n",
      "[10, 20, [30, 4], 50, 20]\n"
     ]
    }
   ],
   "source": [
    "from copy import deepcopy, copy\n",
    "l6 = [10,20,[30,4],50,60]\n",
    "l7 = deepcopy(l6)\n",
    "l8 = l6\n",
    "print(f'Before\\n{l6}\\n{l7}\\n{l8}')\n",
    "l7[0] = 10\n",
    "l8[-1] = 20\n",
    "print(f'After\\n{l6}\\n{l7}\\n{l8}')"
   ]
  },
  {
   "attachments": {},
   "cell_type": "markdown",
   "metadata": {},
   "source": [
    "\n",
    "4. What is the maximum possible length of an identifier?"
   ]
  },
  {
   "attachments": {},
   "cell_type": "markdown",
   "metadata": {},
   "source": [
    "Highest possible identifier length is 79 characters.\n",
    "\n",
    "  - Python, particularly when combined with identifiers, is case-sensitive.\n",
    "  - When writing or using identifiers in Python, it has a maximum of 79 characters.\n",
    "  - Unlikely, Python gives the identifiers unlimited length.\n",
    "  - However, the layout of PEP-8 prevents the user from breaking the rules and includes a 79-character limit.\n"
   ]
  },
  {
   "attachments": {},
   "cell_type": "markdown",
   "metadata": {},
   "source": [
    "\n",
    "5. What is generator comprehension?"
   ]
  },
  {
   "attachments": {},
   "cell_type": "markdown",
   "metadata": {},
   "source": [
    "Single-line specification for defining a generator in Python.\n",
    "\n",
    " -  It is absolutely essential to learn this syntax in order to write simple and readable code.\n",
    " -  Generator comprehension uses round bracket unlike square bracket in list comprehension.\n",
    " -  The generator yields one item at a time and generates item only when in demand. Whereas, in a list comprehension, Python reserves memory for the whole list. Thus we can say that the generator expressions are memory efficient than the lists.\n"
   ]
  },
  {
   "cell_type": "code",
   "execution_count": 7,
   "metadata": {},
   "outputs": [
    {
     "name": "stdout",
     "output_type": "stream",
     "text": [
      "[0, 1, 2, 3, 4, 5, 6, 7, 8, 9]\n",
      "<generator object <genexpr> at 0x7f462871b840>\n",
      "0 2 4 6 8 "
     ]
    }
   ],
   "source": [
    "inpList = [x for x in range(10)] # List Comprehension\n",
    "print(inpList)\n",
    "out = (x for x in inpList if x%2 == 0) # Generator Comprehension\n",
    "print(out) # Returns a Generator Object\n",
    "for y in out:\n",
    "    print(y, end=\" \")"
   ]
  }
 ],
 "metadata": {
  "kernelspec": {
   "display_name": "Python 3",
   "language": "python",
   "name": "python3"
  },
  "language_info": {
   "codemirror_mode": {
    "name": "ipython",
    "version": 3
   },
   "file_extension": ".py",
   "mimetype": "text/x-python",
   "name": "python",
   "nbconvert_exporter": "python",
   "pygments_lexer": "ipython3",
   "version": "3.10.6"
  },
  "orig_nbformat": 4
 },
 "nbformat": 4,
 "nbformat_minor": 2
}
