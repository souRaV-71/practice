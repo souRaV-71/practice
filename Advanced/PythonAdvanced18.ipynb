{
 "cells": [
  {
   "attachments": {},
   "cell_type": "markdown",
   "metadata": {},
   "source": [
    "Q1. Describe the differences between text and binary files in a single paragraph.\n"
   ]
  },
  {
   "attachments": {},
   "cell_type": "markdown",
   "metadata": {},
   "source": [
    "- Text files -> special subset of binary files that are used to store human readable characters as a rich text document or plain text document. It also store data in sequential bytes by bytes in text file represents characters.\n",
    "\n",
    "- Binary files -> typical files that store data in the form of sequence of bytes grouped into eight bits or sometimes sixteen bits. These bits represent custom data and such files can store multiple types of data (images, audio, text, etc) under a single file."
   ]
  },
  {
   "attachments": {},
   "cell_type": "markdown",
   "metadata": {},
   "source": [
    "\n",
    "Q2. What are some scenarios where using text files will be the better option? When would you like to\n",
    "use binary files instead of text files?\n"
   ]
  },
  {
   "attachments": {},
   "cell_type": "markdown",
   "metadata": {},
   "source": [
    "Text files are less prone to get corrupted as any undesired change may just show up once the file is opened and then can easily be removed. \n",
    "<br>\n",
    "Binary files instead of text files for image data."
   ]
  },
  {
   "attachments": {},
   "cell_type": "markdown",
   "metadata": {},
   "source": [
    "\n",
    "Q3. What are some of the issues with using binary operations to read and write a Python integer\n",
    "directly to disc?\n"
   ]
  },
  {
   "attachments": {},
   "cell_type": "markdown",
   "metadata": {},
   "source": [
    "When we read or write a python integer using binary operations\n",
    "\n",
    " - Binary operations deal with raw data\n",
    " - One needs to identify how many bytes one would read or write.\n"
   ]
  },
  {
   "attachments": {},
   "cell_type": "markdown",
   "metadata": {},
   "source": [
    "\n",
    "Q4. Describe a benefit of using the with keyword instead of explicitly opening a file.\n"
   ]
  },
  {
   "attachments": {},
   "cell_type": "markdown",
   "metadata": {},
   "source": [
    "When a file is opened using the with keyword, if some exceptions occur after opening a file, or at the end of the file it automatically does the closing of the file. Therefore not leaving an file in open mode and there would no need to explicitly close a file."
   ]
  },
  {
   "attachments": {},
   "cell_type": "markdown",
   "metadata": {},
   "source": [
    "\n",
    "Q5. Does Python have the trailing newline while reading a line of text? Does Python append a\n",
    "newline when you write a line of text?\n"
   ]
  },
  {
   "attachments": {},
   "cell_type": "markdown",
   "metadata": {},
   "source": [
    "Yes,When we write a newline has to be provided in python excpicitly"
   ]
  },
  {
   "attachments": {},
   "cell_type": "markdown",
   "metadata": {},
   "source": [
    "\n",
    "Q6. What file operations enable for random-access operation?\n"
   ]
  },
  {
   "attachments": {},
   "cell_type": "markdown",
   "metadata": {},
   "source": [
    "seek() & tell()"
   ]
  },
  {
   "attachments": {},
   "cell_type": "markdown",
   "metadata": {},
   "source": [
    "\n",
    "Q7. When do you think you&#39;ll use the struct package the most?\n"
   ]
  },
  {
   "attachments": {},
   "cell_type": "markdown",
   "metadata": {},
   "source": [
    "During converting common python types into C language types"
   ]
  },
  {
   "attachments": {},
   "cell_type": "markdown",
   "metadata": {},
   "source": [
    "\n",
    "Q8. When is pickling the best option?\n"
   ]
  },
  {
   "attachments": {},
   "cell_type": "markdown",
   "metadata": {},
   "source": [
    "For creating a new binary file using python."
   ]
  },
  {
   "attachments": {},
   "cell_type": "markdown",
   "metadata": {},
   "source": [
    "\n",
    "Q9. When will it be best to use the shelve package?\n"
   ]
  },
  {
   "attachments": {},
   "cell_type": "markdown",
   "metadata": {},
   "source": [
    "To pickle data but treats the entire file as dictionary."
   ]
  },
  {
   "attachments": {},
   "cell_type": "markdown",
   "metadata": {},
   "source": [
    "\n",
    "Q10. What is a special restriction when using the shelve package, as opposed to using other data\n",
    "dictionaries?"
   ]
  },
  {
   "attachments": {},
   "cell_type": "markdown",
   "metadata": {},
   "source": [
    "Only string data type can be used as key in this special dictionary object, whereas any picklable Python object can be used as value."
   ]
  }
 ],
 "metadata": {
  "language_info": {
   "name": "python"
  },
  "orig_nbformat": 4
 },
 "nbformat": 4,
 "nbformat_minor": 2
}
