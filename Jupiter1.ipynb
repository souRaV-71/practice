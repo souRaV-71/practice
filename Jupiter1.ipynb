{
 "cells": [
  {
   "cell_type": "code",
   "execution_count": null,
   "metadata": {},
   "outputs": [
    {
     "ename": "",
     "evalue": "",
     "output_type": "error",
     "traceback": [
      "\u001b[1;31mRunning cells with 'Python 3.8.10 64-bit' requires ipykernel package.\n",
      "\u001b[1;31mRun the following command to install 'ipykernel' into the Python environment. \n",
      "\u001b[1;31mCommand: '/bin/python -m pip install ipykernel -U --user --force-reinstall'"
     ]
    }
   ],
   "source": [
    "# git init\n",
    "# Initializing a workspace with version control to track a project workflow\n",
    "\n",
    "# git clone <your remote repo url>\n",
    "# clones , initializes and setup the remote project in a specfified workspace"
   ]
  },
  {
   "cell_type": "code",
   "execution_count": null,
   "metadata": {},
   "outputs": [],
   "source": [
    "# git status\n",
    "# Displays the state of working directory files which one is tracked and which isn't \n",
    "\n",
    "# git add . OR git add <file_name/s>\n",
    "# Moving changed files to the stagging area from where we make the final commit\n",
    "\n",
    "# git commit\n",
    "# Finalizing the changes we have made in the project so that it can moved from stagging area to final position\n",
    "\n",
    "# git commit --amend\n",
    "# passing the --amend flag lets you modify the most recent commit usefull if we have forgot to do some changes in the last commit"
   ]
  },
  {
   "cell_type": "code",
   "execution_count": null,
   "metadata": {},
   "outputs": [],
   "source": [
    "# git config user.name <NAME> / user.email <EMAIL>\n",
    "# setting up your credentials in the workspace we are working on or using --global flag we can set it up in entire system so that it can be accessible form any where in the system\n",
    "\n",
    "# git config --list \n",
    "# "
   ]
  },
  {
   "cell_type": "code",
   "execution_count": null,
   "metadata": {},
   "outputs": [],
   "source": [
    "# git branch\n",
    "# shows the current branch your working on\n",
    "\n",
    "# git branch <branch_name>\n",
    "# create new branch with name <branch_name>\n",
    "\n",
    "# git merge\n",
    "# \n",
    "\n",
    "# git branch -d <branch>\n",
    "# delete branch \n",
    "\n",
    "# git branch -a\n",
    "# list all the branches\n",
    "\n",
    "# git branch -m <branch>\n",
    "# rename branch \n",
    "\n",
    "# git checkout -b <branch_name>\n",
    "# create a branch with specified name and move to it."
   ]
  },
  {
   "cell_type": "code",
   "execution_count": null,
   "metadata": {},
   "outputs": [],
   "source": [
    "# git remote add origin <the_git_repo_url>\n",
    "# adding your remote repo url where you will push your changes to the code\n",
    "\n",
    "# git remote -v\n",
    "# shows the remote repo url that you have added ( by the above cmd )\n",
    "\n"
   ]
  }
 ],
 "metadata": {
  "kernelspec": {
   "display_name": "Python 3",
   "language": "python",
   "name": "python3"
  },
  "language_info": {
   "name": "python",
   "version": "3.9.2"
  },
  "orig_nbformat": 4,
  "vscode": {
   "interpreter": {
    "hash": "31f2aee4e71d21fbe5cf8b01ff0e069b9275f58929596ceb00d14d90e3e16cd6"
   }
  }
 },
 "nbformat": 4,
 "nbformat_minor": 2
}
