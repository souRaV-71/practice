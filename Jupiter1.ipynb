{
 "cells": [
  {
   "attachments": {},
   "cell_type": "markdown",
   "metadata": {},
   "source": [
    "git init - Initializing a workspace with version control to track a project workflow"
   ]
  },
  {
   "attachments": {},
   "cell_type": "markdown",
   "metadata": {},
   "source": [
    "git clone <your remote repo url> - clones , initializes and setup the remote project in a specfified workspace"
   ]
  },
  {
   "attachments": {},
   "cell_type": "markdown",
   "metadata": {},
   "source": [
    "git status - Displays the state of working directory files which one is tracked and which isn't "
   ]
  },
  {
   "attachments": {},
   "cell_type": "markdown",
   "metadata": {},
   "source": [
    "git add . OR git add <file_name/s> - Moving changed files to the stagging area from where we make the final commit"
   ]
  },
  {
   "attachments": {},
   "cell_type": "markdown",
   "metadata": {},
   "source": [
    "git commit - Finalizing the changes we have made in the project so that it can moved from stagging area to final position\n",
    "<br>\n",
    "git commit --amend - passing the --amend flag lets you modify the most recent commit usefull if we have forgot to do some changes in the last commit"
   ]
  },
  {
   "cell_type": "markdown",
   "metadata": {},
   "source": [
    "git config user.name <NAME> / user.email <EMAIL> - setting up your credentials in the workspace we are working on or using --global flag we can set it up in entire system so that it can be accessible form any where in the system\n",
    "\n",
    "git config --list - List all the repository configuration"
   ]
  },
  {
   "attachments": {},
   "cell_type": "markdown",
   "metadata": {},
   "source": [
    "git branch - shows the current branch your working on"
   ]
  },
  {
   "attachments": {},
   "cell_type": "markdown",
   "metadata": {},
   "source": [
    "git branch branch_name - create new branch with name branch_name"
   ]
  },
  {
   "attachments": {},
   "cell_type": "markdown",
   "metadata": {},
   "source": [
    "git branch -d <branch> - delete branch "
   ]
  },
  {
   "attachments": {},
   "cell_type": "markdown",
   "metadata": {},
   "source": [
    "git branch -a - list all the branches"
   ]
  },
  {
   "attachments": {},
   "cell_type": "markdown",
   "metadata": {},
   "source": [
    "git branch -m <branch> - rename branch "
   ]
  },
  {
   "attachments": {},
   "cell_type": "markdown",
   "metadata": {},
   "source": [
    "git checkout -b branch_name - create a branch with specified name and move to it."
   ]
  },
  {
   "cell_type": "markdown",
   "metadata": {},
   "source": [
    "git remote add origin <the_git_repo_url> - adding your remote repo url where you will push your changes to the code\n",
    "<br>\n",
    "git remote -v - shows the remote repo url that you have added ( by the above cmd )\n",
    "\n",
    "<br>"
   ]
  }
 ],
 "metadata": {
  "kernelspec": {
   "display_name": "Python 3",
   "language": "python",
   "name": "python3"
  },
  "language_info": {
   "name": "python",
   "version": "3.9.2"
  },
  "orig_nbformat": 4,
  "vscode": {
   "interpreter": {
    "hash": "31f2aee4e71d21fbe5cf8b01ff0e069b9275f58929596ceb00d14d90e3e16cd6"
   }
  }
 },
 "nbformat": 4,
 "nbformat_minor": 2
}
