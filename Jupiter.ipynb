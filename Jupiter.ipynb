{
 "cells": [
  {
   "cell_type": "code",
   "execution_count": null,
   "metadata": {},
   "outputs": [],
   "source": [
    "class_started = bool(input(\"Hey friend, is class started?: [0-False/1-True]\"))\n",
    "\n",
    "if class_started:                                                           # here i corrected Indentation Error which is also an example of those issues where even completely correct code fails to execute \n",
    "    print(\"Since class started...\")\n",
    "    print(\"Lets concentrate\")\n",
    "else:\n",
    "    print(\"Since class is not started...\")\n",
    "    print(\"let's revise\")\n"
   ]
  },
  {
   "cell_type": "code",
   "execution_count": 2,
   "metadata": {},
   "outputs": [
    {
     "ename": "NameError",
     "evalue": "name 'a' is not defined",
     "output_type": "error",
     "traceback": [
      "\u001b[0;31m---------------------------------------------------------------------------\u001b[0m",
      "\u001b[0;31mNameError\u001b[0m                                 Traceback (most recent call last)",
      "Cell \u001b[0;32mIn[2], line 2\u001b[0m\n\u001b[1;32m      1\u001b[0m \u001b[38;5;66;03m# a , b , c = input().split(\" \")\u001b[39;00m\n\u001b[0;32m----> 2\u001b[0m a,b,c \u001b[38;5;241m=\u001b[39m [\u001b[38;5;28mint\u001b[39m(x) \u001b[38;5;28;01mfor\u001b[39;00m x \u001b[38;5;129;01min\u001b[39;00m [\u001b[43ma\u001b[49m,b,c]]\n\u001b[1;32m      3\u001b[0m \u001b[38;5;28mprint\u001b[39m(a,b,c)\n",
      "\u001b[0;31mNameError\u001b[0m: name 'a' is not defined"
     ]
    }
   ],
   "source": [
    "# # a , b , c = input().split(\" \")\n",
    "# a,b,c = [int(x) for x in [a,b,c]]\n",
    "# print(a,b,c)\n",
    "b = int(input())\n",
    "c = int(input())\n",
    "a = int(input())\n",
    "\n",
    "if (a > b) :\n"
   ]
  },
  {
   "cell_type": "code",
   "execution_count": 3,
   "metadata": {},
   "outputs": [
    {
     "name": "stdout",
     "output_type": "stream",
     "text": [
      "False\n"
     ]
    }
   ],
   "source": [
    "a = 6\n",
    "b = 10\n",
    "print( not ( not a == 10 or not b == 10) )"
   ]
  },
  {
   "cell_type": "code",
   "execution_count": 13,
   "metadata": {},
   "outputs": [
    {
     "name": "stdout",
     "output_type": "stream",
     "text": [
      "True\n",
      "False\n"
     ]
    }
   ],
   "source": [
    "l1 = [1,2,3,4,5,6,7]\n",
    "l2 = [1,2,3,4,5,6,7]\n",
    "\n",
    "if l1 == l2:\n",
    "    print(True)\n",
    "else:\n",
    "    print(False)\n",
    "\n",
    "if l1 is l2:                   # \"is\" keyword compares the obj mem location to see if its pointing to same obj  \n",
    "    print(True)\n",
    "else:\n",
    "    print(False)\n",
    "    "
   ]
  },
  {
   "cell_type": "code",
   "execution_count": 19,
   "metadata": {},
   "outputs": [
    {
     "name": "stdout",
     "output_type": "stream",
     "text": [
      "True\n",
      "139769184282688\n",
      "139769184282688\n",
      "True\n"
     ]
    }
   ],
   "source": [
    "l1 = [1,2,3,4,5,6,7]\n",
    "l2 = l1\n",
    "\n",
    "\n",
    "if l1 is l2:                   # \"is\" keyword compares the obj mem location to see if its pointing to same obj  ( checking if memory addr's are equal )\n",
    "    print(True)\n",
    "else:\n",
    "    print(False)\n",
    "\n",
    "print(id(l1))                   # we are using id() to print out memory location \n",
    "print(id(l2))\n",
    "\n",
    "print(id(l1) == id(l2))"
   ]
  },
  {
   "cell_type": "code",
   "execution_count": 14,
   "metadata": {},
   "outputs": [
    {
     "name": "stdout",
     "output_type": "stream",
     "text": [
      "False\n",
      "True\n"
     ]
    }
   ],
   "source": [
    "A = 5.0\n",
    "B = 10/2\n",
    "print(A is B)\n",
    "print(B == A)"
   ]
  },
  {
   "cell_type": "code",
   "execution_count": 15,
   "metadata": {},
   "outputs": [
    {
     "name": "stdout",
     "output_type": "stream",
     "text": [
      "False\n",
      "True\n"
     ]
    }
   ],
   "source": [
    "A = 5.0\n",
    "B = int(10/2)\n",
    "print(A is B)\n",
    "print(B == A)"
   ]
  },
  {
   "cell_type": "code",
   "execution_count": 16,
   "metadata": {},
   "outputs": [
    {
     "name": "stdout",
     "output_type": "stream",
     "text": [
      "False\n",
      "True\n"
     ]
    }
   ],
   "source": [
    "A = 5.0\n",
    "B = float(10/2)\n",
    "print(A is B)\n",
    "print(A == B)"
   ]
  },
  {
   "cell_type": "code",
   "execution_count": 27,
   "metadata": {},
   "outputs": [
    {
     "name": "stdout",
     "output_type": "stream",
     "text": [
      "125 is divisible by either 3 or 5\n"
     ]
    }
   ],
   "source": [
    "# Write a program that asks the user to enter a number.\n",
    "# You should print out a message to the user, either “That number is divisible by either 3 or 5”, or “That number is not divisible by either 3 or 5”.\n",
    "# Be sure to consider the data type of the input you are taking in from the user. Use a single if/else block to solve this problem.\n",
    "\n",
    "num = int(input(\"Enter the nmbr \"))\n",
    "\n",
    "if num % 3 == 0 or num % 5 == 0:\n",
    "    print(f\"{num} is divisible by either 3 or 5\")\n",
    "else:\n",
    "    print(f\"{num} is not divisible by either 3 or 5\")\n"
   ]
  },
  {
   "cell_type": "code",
   "execution_count": 6,
   "metadata": {},
   "outputs": [
    {
     "name": "stdout",
     "output_type": "stream",
     "text": [
      "Area of Rec : 30\n",
      "not\n"
     ]
    }
   ],
   "source": [
    "# Take user input for length and width. Then calculate the area of rectangle. \n",
    "# Also print as per length and width whether its a square of rectangle.\n",
    "\n",
    "length = int(input())\n",
    "breath = int(input())\n",
    "\n",
    "print(\"Area of Rec :\", length*breath)\n",
    "\n",
    "if length == breath:\n",
    "    print(\"Square\")\n",
    "else:\n",
    "    print(\"Not a Square\")"
   ]
  },
  {
   "cell_type": "code",
   "execution_count": 10,
   "metadata": {},
   "outputs": [
    {
     "name": "stdout",
     "output_type": "stream",
     "text": [
      "Area of Circ1:  50.24\n",
      "Area of Circ2:  113.04\n",
      "Circ2\n"
     ]
    }
   ],
   "source": [
    "# Take two variable radius_1 and radius_2 and calculate the area of circle_1 and circle_2. \n",
    "# Also print which circle has large area. \n",
    "# If area is equal then print area is equal.\n",
    "\n",
    "pi = 3.14\n",
    "radius_1 = int(input())\n",
    "radius_2 = int(input())\n",
    "\n",
    "print(\"Area of Circ1: \",pi*radius_1**2)\n",
    "print(\"Area of Circ2: \",pi*radius_2**2)\n",
    "\n",
    "if (pi*radius_1**2) > (pi*radius_2**2):\n",
    "    print(\"Circ1\")\n",
    "else:\n",
    "    print(\"Circ2\")"
   ]
  },
  {
   "cell_type": "code",
   "execution_count": 15,
   "metadata": {},
   "outputs": [
    {
     "name": "stdout",
     "output_type": "stream",
     "text": [
      "{yr} is a leap year\n"
     ]
    }
   ],
   "source": [
    "# Check whether a year is leap year or not. Use nested if...else to solve this problem.\n",
    "# A leap year is exactly divisible by 4 except for century years (years ending with 00).\n",
    "# The century year is a leap year only if it is perfectly divisible by 400.\n",
    "\n",
    "yr = int(input())\n",
    "\n",
    "# divided by 100 means century year (ending with 00)\n",
    "# century year divided by 400 is leap year\n",
    "if (yr % 400 == 0) and (yr % 100 == 0):\n",
    "    print(\"{yr} is a leap year\")\n",
    "\n",
    "# not divided by 100 means not a century year\n",
    "# year divided by 4 is a leap year\n",
    "elif (yr % 4 == 0) and (yr % 100 != 0):\n",
    "    print(\"{yr} is a leap year\")\n",
    "\n",
    "# if not divided by both 400 (century year) and 4 (not century year)\n",
    "# year is not leap year\n",
    "else:\n",
    "    print(\"{yr} is not a leap year\")\n"
   ]
  }
 ],
 "metadata": {
  "kernelspec": {
   "display_name": "Python 3",
   "language": "python",
   "name": "python3"
  },
  "language_info": {
   "codemirror_mode": {
    "name": "ipython",
    "version": 3
   },
   "file_extension": ".py",
   "mimetype": "text/x-python",
   "name": "python",
   "nbconvert_exporter": "python",
   "pygments_lexer": "ipython3",
   "version": "3.9.2"
  },
  "orig_nbformat": 4,
  "vscode": {
   "interpreter": {
    "hash": "31f2aee4e71d21fbe5cf8b01ff0e069b9275f58929596ceb00d14d90e3e16cd6"
   }
  }
 },
 "nbformat": 4,
 "nbformat_minor": 2
}
